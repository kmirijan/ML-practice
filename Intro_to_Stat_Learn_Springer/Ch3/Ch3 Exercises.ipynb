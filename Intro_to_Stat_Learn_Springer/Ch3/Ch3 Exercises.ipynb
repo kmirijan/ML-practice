{
 "cells": [
  {
   "cell_type": "markdown",
   "metadata": {},
   "source": [
    "<h3> Conceptual"
   ]
  },
  {
   "cell_type": "markdown",
   "metadata": {},
   "source": [
    "1) The p-values of TV and radio on sales seems to indicate that there is some kind of relationship there. The p-value on newspaper when taking TV and Radio into consideration indicates no relationship between newspaper and sales"
   ]
  },
  {
   "cell_type": "markdown",
   "metadata": {},
   "source": [
    "2) KNN classifier and regression are very similiar. In both cases, at a point X0, KNN takes the K nearest points. These K nearest points are called N0. In the case of the classifer, it looks at the classes of the N0 points and based on majority decied the class of our X0. In regression, the average of the N0 points is taken to decide it's posiion."
   ]
  },
  {
   "cell_type": "markdown",
   "metadata": {},
   "source": [
    "3)a)iii) True. The formula is Y = 50 + 20(GPA) + 0.07(IQ) + 35(Gender) + 0.01(GPA X IQ) - 10(GPA X Gender)<br>\n",
    "This means that a GPA above 3.5 will lead to a male earning more sicence the GPA X Gender interaction term will bring down the female earnings more than the Gender value alone will bring it up.<br>\n",
    "b)137.1 thousand dollars<br>\n",
    "c)False, since IQ values are at a higher scale than for GPA which only goes up to 4.0/ This means while the coefficeint is low, the overall difference can be larger."
   ]
  },
  {
   "cell_type": "markdown",
   "metadata": {},
   "source": [
    "4) a) For the training RSS, even though the true relationship is linear, the more flexible vubic model would most likely have lower RSS.<br>\n",
    "b) For test RSS, you would expect the linear model to have a lower RSS since it would be closer to the true relationship. The cubic model would be too well fit to the training data and would not be able to account for the variance in unseen data.<br>\n",
    "c)The train RSS would again be lower for the cubic model. <br>\n",
    "d) There is not enough information to tell. Since we don't know how far away from linear the model is, there may be the possibility that the linear model performs better, even though it is not as felxible."
   ]
  },
  {
   "cell_type": "markdown",
   "metadata": {},
   "source": []
  }
 ],
 "metadata": {
  "kernelspec": {
   "display_name": "Python 3",
   "language": "python",
   "name": "python3"
  },
  "language_info": {
   "codemirror_mode": {
    "name": "ipython",
    "version": 3
   },
   "file_extension": ".py",
   "mimetype": "text/x-python",
   "name": "python",
   "nbconvert_exporter": "python",
   "pygments_lexer": "ipython3",
   "version": "3.7.4"
  }
 },
 "nbformat": 4,
 "nbformat_minor": 4
}
