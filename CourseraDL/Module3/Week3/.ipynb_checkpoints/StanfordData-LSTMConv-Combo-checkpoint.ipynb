{
 "cells": [
  {
   "cell_type": "code",
   "execution_count": 1,
   "metadata": {},
   "outputs": [
    {
     "name": "stdout",
     "output_type": "stream",
     "text": [
      "1 Physical GPUs, 1 Logical GPUs\n"
     ]
    }
   ],
   "source": [
    "import json, os\n",
    "import tensorflow as tf\n",
    "import csv\n",
    "import random\n",
    "import numpy as np\n",
    "\n",
    "from tensorflow.keras.preprocessing.text import Tokenizer\n",
    "from tensorflow.keras.preprocessing.sequence import pad_sequences\n",
    "from tensorflow.keras.utils import to_categorical\n",
    "from tensorflow.keras import regularizers\n",
    "\n",
    "tf.config.list_physical_devices('GPU') \n",
    "gpus = tf.config.experimental.list_physical_devices('GPU')\n",
    "if gpus:\n",
    "    try:\n",
    "        # Currently, memory growth needs to be the same across GPUs\n",
    "        for gpu in gpus:\n",
    "            tf.config.experimental.set_memory_growth(gpu, True)\n",
    "        logical_gpus = tf.config.experimental.list_logical_devices('GPU')\n",
    "        print(len(gpus), \"Physical GPUs,\", len(logical_gpus), \"Logical GPUs\")\n",
    "    except RuntimeError as e:\n",
    "        # Memory growth must be set before GPUs have been initialized\n",
    "        print(e)\n",
    "        \n",
    "DATAPATH = os.path.abspath('../../data/')"
   ]
  },
  {
   "cell_type": "code",
   "execution_count": 16,
   "metadata": {},
   "outputs": [],
   "source": [
    "embedding_dim = 100\n",
    "max_length = 16\n",
    "trunc_type='post'\n",
    "padding_type='post'\n",
    "oov_tok = \"<OOV>\"\n",
    "training_size=160000 #FULL\n",
    "test_portion=.1\n",
    "\n",
    "corpus = []"
   ]
  },
  {
   "cell_type": "code",
   "execution_count": 17,
   "metadata": {},
   "outputs": [],
   "source": [
    "num_sentences = 0\n",
    "\n",
    "with open(os.path.join(DATAPATH, \"training_cleaned.csv\"), encoding='utf8') as csvfile:\n",
    "    reader = csv.reader(csvfile, delimiter=',')\n",
    "    for row in reader:\n",
    "        list_item=[]\n",
    "        list_item.append(row[5])\n",
    "        this_label=row[0]\n",
    "        if this_label=='0':\n",
    "            list_item.append(0)\n",
    "        else:\n",
    "            list_item.append(1)\n",
    "        num_sentences = num_sentences + 1\n",
    "        corpus.append(list_item)\n"
   ]
  },
  {
   "cell_type": "code",
   "execution_count": 18,
   "metadata": {},
   "outputs": [
    {
     "name": "stdout",
     "output_type": "stream",
     "text": [
      "1600000\n",
      "1600000\n",
      "[\"is upset that he can't update his Facebook by texting it... and might cry as a result  School today also. Blah!\", 0]\n"
     ]
    }
   ],
   "source": [
    "print(num_sentences)\n",
    "print(len(corpus))\n",
    "print(corpus[1])\n",
    "\n",
    "# Expected Output:\n",
    "# 1600000\n",
    "# 1600000\n",
    "# [\"is upset that he can't update his Facebook by texting it... and might cry as a result  School today also. Blah!\", 0]"
   ]
  },
  {
   "cell_type": "code",
   "execution_count": 19,
   "metadata": {},
   "outputs": [],
   "source": [
    "sentences=[]\n",
    "labels=[]\n",
    "random.shuffle(corpus)\n",
    "for x in range(training_size):\n",
    "    sentences.append(corpus[x][0])\n",
    "    labels.append(corpus[x][1])\n",
    "\n",
    "\n",
    "tokenizer = Tokenizer()\n",
    "tokenizer.fit_on_texts(sentences)\n",
    "\n",
    "word_index = tokenizer.word_index\n",
    "vocab_size=len(word_index)\n",
    "\n",
    "sequences = tokenizer.texts_to_sequences(sentences)\n",
    "padded = pad_sequences(sequences, maxlen=max_length, padding=padding_type, truncating=trunc_type)\n",
    "\n",
    "split = int(test_portion * training_size)\n",
    "\n",
    "test_sequences = padded[0:split]\n",
    "training_sequences = padded[split:training_size]\n",
    "test_labels = labels[0:split]\n",
    "training_labels = labels[split:training_size]"
   ]
  },
  {
   "cell_type": "code",
   "execution_count": 20,
   "metadata": {},
   "outputs": [
    {
     "name": "stdout",
     "output_type": "stream",
     "text": [
      "139076\n",
      "1\n"
     ]
    }
   ],
   "source": [
    "print(vocab_size)\n",
    "print(word_index['i'])\n",
    "# Expected Output\n",
    "# 138858\n",
    "# 1"
   ]
  },
  {
   "cell_type": "code",
   "execution_count": 22,
   "metadata": {},
   "outputs": [],
   "source": [
    "### Get Stanford Glove 100d embeddings\n",
    "\n",
    "embeddings_index = {};\n",
    "with open(os.path.join(DATAPATH, 'glove.6B.100d.txt'), encoding='utf8') as f:\n",
    "    for line in f:\n",
    "        values = line.split();\n",
    "        word = values[0];\n",
    "        coefs = np.asarray(values[1:], dtype='float32');\n",
    "        embeddings_index[word] = coefs;\n",
    "\n",
    "embeddings_matrix = np.zeros((vocab_size+1, embedding_dim));\n",
    "for word, i in word_index.items():\n",
    "    embedding_vector = embeddings_index.get(word);\n",
    "    try:\n",
    "        if embedding_vector is not None:\n",
    "            embeddings_matrix[i] = embedding_vector;\n",
    "    except:\n",
    "        embeddings_matrix[i] = embeddings_matrix[i-1]"
   ]
  },
  {
   "cell_type": "code",
   "execution_count": 23,
   "metadata": {},
   "outputs": [
    {
     "name": "stdout",
     "output_type": "stream",
     "text": [
      "139077\n"
     ]
    }
   ],
   "source": [
    "print(len(embeddings_matrix))\n",
    "# Expected Output\n",
    "# 138859"
   ]
  },
  {
   "cell_type": "code",
   "execution_count": 24,
   "metadata": {},
   "outputs": [
    {
     "name": "stdout",
     "output_type": "stream",
     "text": [
      "Model: \"sequential\"\n",
      "_________________________________________________________________\n",
      "Layer (type)                 Output Shape              Param #   \n",
      "=================================================================\n",
      "embedding (Embedding)        (None, 16, 100)           13907700  \n",
      "_________________________________________________________________\n",
      "dropout (Dropout)            (None, 16, 100)           0         \n",
      "_________________________________________________________________\n",
      "conv1d (Conv1D)              (None, 12, 64)            32064     \n",
      "_________________________________________________________________\n",
      "max_pooling1d (MaxPooling1D) (None, 3, 64)             0         \n",
      "_________________________________________________________________\n",
      "lstm (LSTM)                  (None, 64)                33024     \n",
      "_________________________________________________________________\n",
      "dense (Dense)                (None, 1)                 65        \n",
      "=================================================================\n",
      "Total params: 13,972,853\n",
      "Trainable params: 65,153\n",
      "Non-trainable params: 13,907,700\n",
      "_________________________________________________________________\n",
      "Epoch 1/30\n",
      "4500/4500 - 22s - loss: 0.5956 - accuracy: 0.6725 - val_loss: 0.5648 - val_accuracy: 0.7021\n",
      "Epoch 2/30\n",
      "4500/4500 - 20s - loss: 0.5615 - accuracy: 0.7036 - val_loss: 0.5457 - val_accuracy: 0.7173\n",
      "Epoch 3/30\n",
      "4500/4500 - 21s - loss: 0.5465 - accuracy: 0.7165 - val_loss: 0.5517 - val_accuracy: 0.7132\n",
      "Epoch 4/30\n",
      "4500/4500 - 20s - loss: 0.5376 - accuracy: 0.7223 - val_loss: 0.5411 - val_accuracy: 0.7174\n",
      "Epoch 5/30\n",
      "4500/4500 - 20s - loss: 0.5289 - accuracy: 0.7293 - val_loss: 0.5372 - val_accuracy: 0.7217\n",
      "Epoch 6/30\n",
      "4500/4500 - 20s - loss: 0.5225 - accuracy: 0.7344 - val_loss: 0.5374 - val_accuracy: 0.7215\n",
      "Epoch 7/30\n",
      "4500/4500 - 19s - loss: 0.5179 - accuracy: 0.7358 - val_loss: 0.5367 - val_accuracy: 0.7199\n",
      "Epoch 8/30\n",
      "4500/4500 - 20s - loss: 0.5122 - accuracy: 0.7396 - val_loss: 0.5374 - val_accuracy: 0.7247\n",
      "Epoch 9/30\n",
      "4500/4500 - 21s - loss: 0.5082 - accuracy: 0.7433 - val_loss: 0.5369 - val_accuracy: 0.7212\n",
      "Epoch 10/30\n",
      "4500/4500 - 20s - loss: 0.5033 - accuracy: 0.7464 - val_loss: 0.5410 - val_accuracy: 0.7219\n",
      "Epoch 11/30\n",
      "4500/4500 - 20s - loss: 0.5005 - accuracy: 0.7478 - val_loss: 0.5423 - val_accuracy: 0.7224\n",
      "Epoch 12/30\n",
      "4500/4500 - 20s - loss: 0.4981 - accuracy: 0.7493 - val_loss: 0.5392 - val_accuracy: 0.7239\n",
      "Epoch 13/30\n",
      "4500/4500 - 20s - loss: 0.4960 - accuracy: 0.7508 - val_loss: 0.5378 - val_accuracy: 0.7243\n",
      "Epoch 14/30\n",
      "4500/4500 - 18s - loss: 0.4920 - accuracy: 0.7546 - val_loss: 0.5418 - val_accuracy: 0.7216\n",
      "Epoch 15/30\n",
      "4500/4500 - 20s - loss: 0.4906 - accuracy: 0.7546 - val_loss: 0.5477 - val_accuracy: 0.7191\n",
      "Epoch 16/30\n",
      "4500/4500 - 20s - loss: 0.4876 - accuracy: 0.7568 - val_loss: 0.5450 - val_accuracy: 0.7246\n",
      "Epoch 17/30\n",
      "4500/4500 - 19s - loss: 0.4852 - accuracy: 0.7576 - val_loss: 0.5486 - val_accuracy: 0.7247\n",
      "Epoch 18/30\n",
      "4500/4500 - 19s - loss: 0.4848 - accuracy: 0.7576 - val_loss: 0.5433 - val_accuracy: 0.7208\n",
      "Epoch 19/30\n",
      "4500/4500 - 19s - loss: 0.4836 - accuracy: 0.7576 - val_loss: 0.5460 - val_accuracy: 0.7208\n",
      "Epoch 20/30\n",
      "4500/4500 - 22s - loss: 0.4809 - accuracy: 0.7622 - val_loss: 0.5413 - val_accuracy: 0.7237\n",
      "Epoch 21/30\n",
      "4500/4500 - 19s - loss: 0.4789 - accuracy: 0.7626 - val_loss: 0.5476 - val_accuracy: 0.7234\n",
      "Epoch 22/30\n",
      "4500/4500 - 20s - loss: 0.4786 - accuracy: 0.7627 - val_loss: 0.5476 - val_accuracy: 0.7205\n",
      "Epoch 23/30\n",
      "4500/4500 - 19s - loss: 0.4768 - accuracy: 0.7645 - val_loss: 0.5517 - val_accuracy: 0.7217\n",
      "Epoch 24/30\n",
      "4500/4500 - 21s - loss: 0.4760 - accuracy: 0.7634 - val_loss: 0.5565 - val_accuracy: 0.7186\n",
      "Epoch 25/30\n",
      "4500/4500 - 20s - loss: 0.4745 - accuracy: 0.7648 - val_loss: 0.5577 - val_accuracy: 0.7180\n",
      "Epoch 26/30\n",
      "4500/4500 - 20s - loss: 0.4741 - accuracy: 0.7654 - val_loss: 0.5542 - val_accuracy: 0.7173\n",
      "Epoch 27/30\n",
      "4500/4500 - 20s - loss: 0.4727 - accuracy: 0.7673 - val_loss: 0.5542 - val_accuracy: 0.7201\n",
      "Epoch 28/30\n",
      "4500/4500 - 19s - loss: 0.4719 - accuracy: 0.7670 - val_loss: 0.5568 - val_accuracy: 0.7193\n",
      "Epoch 29/30\n",
      "4500/4500 - 21s - loss: 0.4722 - accuracy: 0.7664 - val_loss: 0.5517 - val_accuracy: 0.7196\n",
      "Epoch 30/30\n",
      "4500/4500 - 21s - loss: 0.4701 - accuracy: 0.7680 - val_loss: 0.5566 - val_accuracy: 0.7186\n",
      "Training Complete\n"
     ]
    }
   ],
   "source": [
    "## Embeddings untrainable\n",
    "## Combo architechture with Conv1D followed by single directional LSTM\n",
    "\n",
    "model = tf.keras.Sequential([\n",
    "    tf.keras.layers.Embedding(vocab_size+1, embedding_dim, input_length=max_length, weights=[embeddings_matrix], trainable=False),\n",
    "    tf.keras.layers.Dropout(0.2),\n",
    "    tf.keras.layers.Conv1D(64, 5, activation='relu'),\n",
    "    tf.keras.layers.MaxPooling1D(pool_size=4),\n",
    "    tf.keras.layers.LSTM(64),\n",
    "    tf.keras.layers.Dense(1, activation='sigmoid')\n",
    "])\n",
    "model.compile(loss='binary_crossentropy',optimizer='adam',metrics=['accuracy'])\n",
    "model.summary()\n",
    "\n",
    "num_epochs = 30\n",
    "\n",
    "training_padded = np.array(training_sequences)\n",
    "training_labels = np.array(training_labels)\n",
    "testing_padded = np.array(test_sequences)\n",
    "testing_labels = np.array(test_labels)\n",
    "\n",
    "history = model.fit(training_padded, training_labels, epochs=num_epochs, validation_data=(testing_padded, testing_labels), verbose=2)\n",
    "\n",
    "print(\"Training Complete\")"
   ]
  },
  {
   "cell_type": "code",
   "execution_count": 25,
   "metadata": {},
   "outputs": [
    {
     "data": {
      "text/plain": [
       "<Figure size 432x288 with 0 Axes>"
      ]
     },
     "execution_count": 25,
     "metadata": {},
     "output_type": "execute_result"
    },
    {
     "data": {
      "image/png": "[encoded data removed]",
      "text/plain": [
       "<Figure size 432x288 with 1 Axes>"
      ]
     },
     "metadata": {
      "needs_background": "light"
     },
     "output_type": "display_data"
    },
    {
     "data": {
      "image/png": "[encoded data removed]",
      "text/plain": [
       "<Figure size 432x288 with 1 Axes>"
      ]
     },
     "metadata": {
      "needs_background": "light"
     },
     "output_type": "display_data"
    },
    {
     "data": {
      "text/plain": [
       "<Figure size 432x288 with 0 Axes>"
      ]
     },
     "metadata": {},
     "output_type": "display_data"
    }
   ],
   "source": [
    "import matplotlib.image  as mpimg\n",
    "import matplotlib.pyplot as plt\n",
    "\n",
    "#-----------------------------------------------------------\n",
    "# Retrieve a list of list results on training and test data\n",
    "# sets for each training epoch\n",
    "#-----------------------------------------------------------\n",
    "acc=history.history['accuracy']\n",
    "val_acc=history.history['val_accuracy']\n",
    "loss=history.history['loss']\n",
    "val_loss=history.history['val_loss']\n",
    "\n",
    "epochs=range(len(acc)) # Get number of epochs\n",
    "\n",
    "#------------------------------------------------\n",
    "# Plot training and validation accuracy per epoch\n",
    "#------------------------------------------------\n",
    "plt.plot(epochs, acc, 'r')\n",
    "plt.plot(epochs, val_acc, 'b')\n",
    "plt.title('Training and validation accuracy')\n",
    "plt.xlabel(\"Epochs\")\n",
    "plt.ylabel(\"Accuracy\")\n",
    "plt.legend([\"Accuracy\", \"Validation Accuracy\"])\n",
    "\n",
    "plt.figure()\n",
    "\n",
    "#------------------------------------------------\n",
    "# Plot training and validation loss per epoch\n",
    "#------------------------------------------------\n",
    "plt.plot(epochs, loss, 'r')\n",
    "plt.plot(epochs, val_loss, 'b')\n",
    "plt.title('Training and validation loss')\n",
    "plt.xlabel(\"Epochs\")\n",
    "plt.ylabel(\"Loss\")\n",
    "plt.legend([\"Loss\", \"Validation Loss\"])\n",
    "\n",
    "plt.figure()\n",
    "\n",
    "\n",
    "# Expected Output\n",
    "# A chart where the validation loss does not increase sharply!"
   ]
  },
  {
   "cell_type": "code",
   "execution_count": null,
   "metadata": {},
   "outputs": [],
   "source": []
  }
 ],
 "metadata": {
  "kernelspec": {
   "display_name": "tensorflow2",
   "language": "python",
   "name": "tensorflow2"
  },
  "language_info": {
   "codemirror_mode": {
    "name": "ipython",
    "version": 3
   },
   "file_extension": ".py",
   "mimetype": "text/x-python",
   "name": "python",
   "nbconvert_exporter": "python",
   "pygments_lexer": "ipython3",
   "version": "3.7.4"
  }
 },
 "nbformat": 4,
 "nbformat_minor": 4
}
