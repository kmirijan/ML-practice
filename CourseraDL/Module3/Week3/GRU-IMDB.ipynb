{
 "cells": [
  {
   "cell_type": "code",
   "execution_count": 1,
   "metadata": {},
   "outputs": [
    {
     "name": "stdout",
     "output_type": "stream",
     "text": [
      "1 Physical GPUs, 1 Logical GPUs\n"
     ]
    }
   ],
   "source": [
    "import os\n",
    "import tensorflow as tf\n",
    "import tensorflow_datasets as tfds\n",
    "\n",
    "tf.config.list_physical_devices('GPU') \n",
    "gpus = tf.config.experimental.list_physical_devices('GPU')\n",
    "if gpus:\n",
    "    try:\n",
    "        # Currently, memory growth needs to be the same across GPUs\n",
    "        for gpu in gpus:\n",
    "            tf.config.experimental.set_memory_growth(gpu, True)\n",
    "        logical_gpus = tf.config.experimental.list_logical_devices('GPU')\n",
    "        print(len(gpus), \"Physical GPUs,\", len(logical_gpus), \"Logical GPUs\")\n",
    "    except RuntimeError as e:\n",
    "        # Memory growth must be set before GPUs have been initialized\n",
    "        print(e)\n",
    "        \n",
    "DATAPATH = os.path.abspath('../../data/')"
   ]
  },
  {
   "cell_type": "code",
   "execution_count": 2,
   "metadata": {},
   "outputs": [],
   "source": [
    "import numpy as np\n",
    "\n",
    "imdb, info = tfds.load(\"imdb_reviews\", with_info=True, as_supervised=True)\n",
    "\n",
    "train_data, test_data = imdb['train'], imdb['test']\n",
    "\n",
    "training_sentences = []\n",
    "training_labels = []\n",
    "\n",
    "testing_sentences = []\n",
    "testing_labels = []\n",
    "\n",
    "# str(s.tonumpy()) is needed in Python3 instead of just s.numpy()\n",
    "for s,l in train_data:\n",
    "  training_sentences.append(str(s.numpy()))\n",
    "  training_labels.append(l.numpy())\n",
    "  \n",
    "for s,l in test_data:\n",
    "  testing_sentences.append(str(s.numpy()))\n",
    "  testing_labels.append(l.numpy())\n",
    "  \n",
    "training_labels_final = np.array(training_labels)\n",
    "testing_labels_final = np.array(testing_labels)\n"
   ]
  },
  {
   "cell_type": "code",
   "execution_count": 3,
   "metadata": {},
   "outputs": [],
   "source": [
    "vocab_size = 10000\n",
    "embedding_dim = 16\n",
    "max_length = 120\n",
    "trunc_type='post'\n",
    "oov_tok = \"<OOV>\"\n",
    "\n",
    "\n",
    "from tensorflow.keras.preprocessing.text import Tokenizer\n",
    "from tensorflow.keras.preprocessing.sequence import pad_sequences\n",
    "\n",
    "tokenizer = Tokenizer(num_words = vocab_size, oov_token=oov_tok)\n",
    "tokenizer.fit_on_texts(training_sentences)\n",
    "word_index = tokenizer.word_index\n",
    "sequences = tokenizer.texts_to_sequences(training_sentences)\n",
    "padded = pad_sequences(sequences,maxlen=max_length, truncating=trunc_type)\n",
    "\n",
    "testing_sequences = tokenizer.texts_to_sequences(testing_sentences)\n",
    "testing_padded = pad_sequences(testing_sequences,maxlen=max_length)\n"
   ]
  },
  {
   "cell_type": "code",
   "execution_count": 4,
   "metadata": {},
   "outputs": [
    {
     "name": "stdout",
     "output_type": "stream",
     "text": [
      "Model: \"sequential\"\n",
      "_________________________________________________________________\n",
      "Layer (type)                 Output Shape              Param #   \n",
      "=================================================================\n",
      "embedding (Embedding)        (None, 120, 16)           160000    \n",
      "_________________________________________________________________\n",
      "bidirectional (Bidirectional (None, 64)                9600      \n",
      "_________________________________________________________________\n",
      "dense (Dense)                (None, 6)                 390       \n",
      "_________________________________________________________________\n",
      "dense_1 (Dense)              (None, 1)                 7         \n",
      "=================================================================\n",
      "Total params: 169,997\n",
      "Trainable params: 169,997\n",
      "Non-trainable params: 0\n",
      "_________________________________________________________________\n"
     ]
    }
   ],
   "source": [
    "model = tf.keras.Sequential([\n",
    "    tf.keras.layers.Embedding(vocab_size, embedding_dim, input_length=max_length),\n",
    "    tf.keras.layers.Bidirectional(tf.keras.layers.GRU(32)),\n",
    "    tf.keras.layers.Dense(6, activation='relu'),\n",
    "    tf.keras.layers.Dense(1, activation='sigmoid')\n",
    "])\n",
    "model.compile(loss='binary_crossentropy',optimizer='adam',metrics=['accuracy'])\n",
    "model.summary()\n"
   ]
  },
  {
   "cell_type": "code",
   "execution_count": 5,
   "metadata": {},
   "outputs": [
    {
     "name": "stdout",
     "output_type": "stream",
     "text": [
      "Epoch 1/50\n",
      "782/782 [==============================] - 20s 21ms/step - loss: 0.6441 - accuracy: 0.5900 - val_loss: 0.3873 - val_accuracy: 0.8270\n",
      "Epoch 2/50\n",
      "782/782 [==============================] - 16s 21ms/step - loss: 0.3144 - accuracy: 0.8704 - val_loss: 0.3597 - val_accuracy: 0.8443\n",
      "Epoch 3/50\n",
      "782/782 [==============================] - 16s 20ms/step - loss: 0.2221 - accuracy: 0.9181 - val_loss: 0.3750 - val_accuracy: 0.8355\n",
      "Epoch 4/50\n",
      "782/782 [==============================] - 17s 22ms/step - loss: 0.1761 - accuracy: 0.9383 - val_loss: 0.4399 - val_accuracy: 0.8277\n",
      "Epoch 5/50\n",
      "782/782 [==============================] - 17s 21ms/step - loss: 0.1237 - accuracy: 0.9581 - val_loss: 0.4943 - val_accuracy: 0.8182\n",
      "Epoch 6/50\n",
      "782/782 [==============================] - 18s 22ms/step - loss: 0.1034 - accuracy: 0.9665 - val_loss: 0.5145 - val_accuracy: 0.8193\n",
      "Epoch 7/50\n",
      "782/782 [==============================] - 17s 22ms/step - loss: 0.0708 - accuracy: 0.9785 - val_loss: 0.6467 - val_accuracy: 0.8119\n",
      "Epoch 8/50\n",
      "782/782 [==============================] - 16s 21ms/step - loss: 0.0531 - accuracy: 0.9828 - val_loss: 0.6855 - val_accuracy: 0.8107\n",
      "Epoch 9/50\n",
      "782/782 [==============================] - 17s 22ms/step - loss: 0.0449 - accuracy: 0.9850 - val_loss: 0.7553 - val_accuracy: 0.8127\n",
      "Epoch 10/50\n",
      "782/782 [==============================] - 17s 22ms/step - loss: 0.0334 - accuracy: 0.9884 - val_loss: 0.8142 - val_accuracy: 0.8071\n",
      "Epoch 11/50\n",
      "782/782 [==============================] - 17s 21ms/step - loss: 0.0215 - accuracy: 0.9945 - val_loss: 0.8662 - val_accuracy: 0.8161\n",
      "Epoch 12/50\n",
      "782/782 [==============================] - 16s 20ms/step - loss: 0.0211 - accuracy: 0.9937 - val_loss: 1.0295 - val_accuracy: 0.8144\n",
      "Epoch 13/50\n",
      "782/782 [==============================] - 16s 21ms/step - loss: 0.0141 - accuracy: 0.9957 - val_loss: 0.9744 - val_accuracy: 0.8026\n",
      "Epoch 14/50\n",
      "782/782 [==============================] - 16s 21ms/step - loss: 0.0191 - accuracy: 0.9936 - val_loss: 0.9968 - val_accuracy: 0.8102\n",
      "Epoch 15/50\n",
      "782/782 [==============================] - 16s 21ms/step - loss: 0.0083 - accuracy: 0.9975 - val_loss: 1.1638 - val_accuracy: 0.8125\n",
      "Epoch 16/50\n",
      "782/782 [==============================] - 16s 21ms/step - loss: 0.0088 - accuracy: 0.9968 - val_loss: 1.2486 - val_accuracy: 0.8111\n",
      "Epoch 17/50\n",
      "782/782 [==============================] - 17s 22ms/step - loss: 0.0084 - accuracy: 0.9971 - val_loss: 1.2763 - val_accuracy: 0.8062\n",
      "Epoch 18/50\n",
      "782/782 [==============================] - 17s 21ms/step - loss: 0.0104 - accuracy: 0.9966 - val_loss: 1.1948 - val_accuracy: 0.8127\n",
      "Epoch 19/50\n",
      "782/782 [==============================] - 16s 20ms/step - loss: 0.0058 - accuracy: 0.9979 - val_loss: 1.2960 - val_accuracy: 0.8074\n",
      "Epoch 20/50\n",
      "782/782 [==============================] - 16s 21ms/step - loss: 0.0068 - accuracy: 0.9977 - val_loss: 1.5207 - val_accuracy: 0.7983\n",
      "Epoch 21/50\n",
      "782/782 [==============================] - 16s 21ms/step - loss: 0.0019 - accuracy: 0.9997 - val_loss: 1.4025 - val_accuracy: 0.8081\n",
      "Epoch 22/50\n",
      "782/782 [==============================] - 17s 21ms/step - loss: 0.0046 - accuracy: 0.9985 - val_loss: 1.3405 - val_accuracy: 0.8062\n",
      "Epoch 23/50\n",
      "782/782 [==============================] - 16s 21ms/step - loss: 0.0053 - accuracy: 0.9981 - val_loss: 1.4297 - val_accuracy: 0.8101\n",
      "Epoch 24/50\n",
      "782/782 [==============================] - 17s 22ms/step - loss: 0.0046 - accuracy: 0.9986 - val_loss: 1.3800 - val_accuracy: 0.8083\n",
      "Epoch 25/50\n",
      "782/782 [==============================] - 16s 21ms/step - loss: 0.0041 - accuracy: 0.9989 - val_loss: 1.2859 - val_accuracy: 0.8084\n",
      "Epoch 26/50\n",
      "782/782 [==============================] - 17s 21ms/step - loss: 0.0043 - accuracy: 0.9988 - val_loss: 1.3438 - val_accuracy: 0.8035\n",
      "Epoch 27/50\n",
      "782/782 [==============================] - 17s 21ms/step - loss: 0.0013 - accuracy: 0.9995 - val_loss: 1.4842 - val_accuracy: 0.8037\n",
      "Epoch 28/50\n",
      "782/782 [==============================] - 17s 22ms/step - loss: 0.0026 - accuracy: 0.9990 - val_loss: 1.4436 - val_accuracy: 0.8034\n",
      "Epoch 29/50\n",
      "782/782 [==============================] - 17s 21ms/step - loss: 0.0023 - accuracy: 0.9994 - val_loss: 1.5015 - val_accuracy: 0.8009\n",
      "Epoch 30/50\n",
      "782/782 [==============================] - 17s 21ms/step - loss: 0.0087 - accuracy: 0.9967 - val_loss: 1.4935 - val_accuracy: 0.8028\n",
      "Epoch 31/50\n",
      "782/782 [==============================] - 16s 21ms/step - loss: 0.0020 - accuracy: 0.9993 - val_loss: 1.5861 - val_accuracy: 0.8060\n",
      "Epoch 32/50\n",
      "782/782 [==============================] - 16s 21ms/step - loss: 1.4007e-04 - accuracy: 1.0000 - val_loss: 1.6880 - val_accuracy: 0.8067\n",
      "Epoch 33/50\n",
      "782/782 [==============================] - 17s 21ms/step - loss: 4.1785e-05 - accuracy: 1.0000 - val_loss: 1.7291 - val_accuracy: 0.8077\n",
      "Epoch 34/50\n",
      "782/782 [==============================] - 16s 21ms/step - loss: 2.5186e-05 - accuracy: 1.0000 - val_loss: 1.7844 - val_accuracy: 0.8082\n",
      "Epoch 35/50\n",
      "782/782 [==============================] - 17s 21ms/step - loss: 1.6558e-05 - accuracy: 1.0000 - val_loss: 1.8391 - val_accuracy: 0.8083\n",
      "Epoch 36/50\n",
      "782/782 [==============================] - 16s 21ms/step - loss: 1.1761e-05 - accuracy: 1.0000 - val_loss: 1.8989 - val_accuracy: 0.8085\n",
      "Epoch 37/50\n",
      "782/782 [==============================] - 17s 21ms/step - loss: 7.7677e-06 - accuracy: 1.0000 - val_loss: 1.9571 - val_accuracy: 0.8087\n",
      "Epoch 38/50\n",
      "782/782 [==============================] - 17s 22ms/step - loss: 5.3434e-06 - accuracy: 1.0000 - val_loss: 2.0238 - val_accuracy: 0.8082\n",
      "Epoch 39/50\n",
      "782/782 [==============================] - 16s 21ms/step - loss: 3.6362e-06 - accuracy: 1.0000 - val_loss: 2.0875 - val_accuracy: 0.8083\n",
      "Epoch 40/50\n",
      "782/782 [==============================] - 16s 21ms/step - loss: 2.4778e-06 - accuracy: 1.0000 - val_loss: 2.1527 - val_accuracy: 0.8079\n",
      "Epoch 41/50\n",
      "782/782 [==============================] - 16s 21ms/step - loss: 1.6536e-06 - accuracy: 1.0000 - val_loss: 2.2179 - val_accuracy: 0.8080\n",
      "Epoch 42/50\n",
      "782/782 [==============================] - 16s 21ms/step - loss: 1.0916e-06 - accuracy: 1.0000 - val_loss: 2.2865 - val_accuracy: 0.8076\n",
      "Epoch 43/50\n",
      "782/782 [==============================] - 16s 21ms/step - loss: 7.2214e-07 - accuracy: 1.0000 - val_loss: 2.3554 - val_accuracy: 0.8076\n",
      "Epoch 44/50\n",
      "782/782 [==============================] - 16s 21ms/step - loss: 4.5912e-07 - accuracy: 1.0000 - val_loss: 2.4286 - val_accuracy: 0.8074\n",
      "Epoch 45/50\n",
      "782/782 [==============================] - 16s 21ms/step - loss: 3.1382e-07 - accuracy: 1.0000 - val_loss: 2.4941 - val_accuracy: 0.8073\n",
      "Epoch 46/50\n",
      "782/782 [==============================] - 16s 21ms/step - loss: 2.0921e-07 - accuracy: 1.0000 - val_loss: 2.5673 - val_accuracy: 0.8071\n",
      "Epoch 47/50\n",
      "782/782 [==============================] - 16s 21ms/step - loss: 1.4501e-07 - accuracy: 1.0000 - val_loss: 2.6368 - val_accuracy: 0.8070\n",
      "Epoch 48/50\n",
      "782/782 [==============================] - 16s 21ms/step - loss: 8.6526e-08 - accuracy: 1.0000 - val_loss: 2.6978 - val_accuracy: 0.8069\n",
      "Epoch 49/50\n",
      "782/782 [==============================] - 16s 21ms/step - loss: 5.8356e-08 - accuracy: 1.0000 - val_loss: 2.7700 - val_accuracy: 0.8068\n",
      "Epoch 50/50\n",
      "782/782 [==============================] - 16s 21ms/step - loss: 3.7818e-08 - accuracy: 1.0000 - val_loss: 2.8283 - val_accuracy: 0.8072\n"
     ]
    }
   ],
   "source": [
    "num_epochs = 50\n",
    "history = model.fit(padded, training_labels_final, epochs=num_epochs, validation_data=(testing_padded, testing_labels_final))"
   ]
  },
  {
   "cell_type": "code",
   "execution_count": 6,
   "metadata": {},
   "outputs": [
    {
     "data": {
      "image/png": "[encoded data removed]",
      "text/plain": [
       "<Figure size 432x288 with 1 Axes>"
      ]
     },
     "metadata": {
      "needs_background": "light"
     },
     "output_type": "display_data"
    },
    {
     "data": {
      "image/png": "[encoded data removed]",
      "text/plain": [
       "<Figure size 432x288 with 1 Axes>"
      ]
     },
     "metadata": {
      "needs_background": "light"
     },
     "output_type": "display_data"
    }
   ],
   "source": [
    "import matplotlib.pyplot as plt\n",
    "\n",
    "\n",
    "def plot_graphs(history, string):\n",
    "  plt.plot(history.history[string])\n",
    "  plt.plot(history.history['val_'+string])\n",
    "  plt.xlabel(\"Epochs\")\n",
    "  plt.ylabel(string)\n",
    "  plt.legend([string, 'val_'+string])\n",
    "  plt.show()\n",
    "\n",
    "plot_graphs(history, 'accuracy')\n",
    "plot_graphs(history, 'loss')"
   ]
  },
  {
   "cell_type": "code",
   "execution_count": null,
   "metadata": {},
   "outputs": [],
   "source": []
  }
 ],
 "metadata": {
  "kernelspec": {
   "display_name": "tensorflow2",
   "language": "python",
   "name": "tensorflow2"
  },
  "language_info": {
   "codemirror_mode": {
    "name": "ipython",
    "version": 3
   },
   "file_extension": ".py",
   "mimetype": "text/x-python",
   "name": "python",
   "nbconvert_exporter": "python",
   "pygments_lexer": "ipython3",
   "version": "3.7.4"
  }
 },
 "nbformat": 4,
 "nbformat_minor": 4
}
