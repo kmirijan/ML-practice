{
 "cells": [
  {
   "cell_type": "code",
   "execution_count": 48,
   "metadata": {},
   "outputs": [
    {
     "name": "stdout",
     "output_type": "stream",
     "text": [
      "1 Physical GPUs, 1 Logical GPUs\n"
     ]
    }
   ],
   "source": [
    "import tensorflow as tf\n",
    "import tensorflow_datasets as tfds\n",
    "import numpy as np\n",
    "import json, os\n",
    "from tensorflow.keras.preprocessing.text import Tokenizer\n",
    "from tensorflow.keras.preprocessing.sequence import pad_sequences\n",
    "\n",
    "tf.config.list_physical_devices('GPU') \n",
    "gpus = tf.config.experimental.list_physical_devices('GPU')\n",
    "if gpus:\n",
    "    try:\n",
    "        # Currently, memory growth needs to be the same across GPUs\n",
    "        for gpu in gpus:\n",
    "            tf.config.experimental.set_memory_growth(gpu, True)\n",
    "        logical_gpus = tf.config.experimental.list_logical_devices('GPU')\n",
    "        print(len(gpus), \"Physical GPUs,\", len(logical_gpus), \"Logical GPUs\")\n",
    "    except RuntimeError as e:\n",
    "        # Memory growth must be set before GPUs have been initialized\n",
    "        print(e)\n",
    "\n",
    "DATAPATH = os.path.abspath('../../data/')"
   ]
  },
  {
   "cell_type": "code",
   "execution_count": 56,
   "metadata": {},
   "outputs": [],
   "source": [
    "vocab_size = 2500\n",
    "embedding_dim = 150\n",
    "max_length = 1000\n",
    "trunc_type='post'\n",
    "padding_type='post'\n",
    "oov_tok = \"<OOV>\"\n",
    "training_size = 20000"
   ]
  },
  {
   "cell_type": "code",
   "execution_count": 57,
   "metadata": {},
   "outputs": [],
   "source": [
    "with open(os.path.join(DATAPATH, \"sarcasm.json\"), 'r') as f:\n",
    "    datastore = json.load(f)\n",
    "\n",
    "sentences = []\n",
    "labels = []\n",
    "\n",
    "for item in datastore:\n",
    "    sentences.append(item['headline'])\n",
    "    labels.append(item['is_sarcastic'])"
   ]
  },
  {
   "cell_type": "code",
   "execution_count": 58,
   "metadata": {},
   "outputs": [],
   "source": [
    "training_sentences = sentences[0:training_size]\n",
    "testing_sentences = sentences[training_size:]\n",
    "training_labels = labels[0:training_size]\n",
    "testing_labels = labels[training_size:]"
   ]
  },
  {
   "cell_type": "code",
   "execution_count": 59,
   "metadata": {},
   "outputs": [],
   "source": [
    "tokenizer = Tokenizer(num_words=vocab_size, oov_token=oov_tok)\n",
    "tokenizer.fit_on_texts(training_sentences)\n",
    "\n",
    "word_index = tokenizer.word_index\n",
    "\n",
    "training_sequences = tokenizer.texts_to_sequences(training_sentences)\n",
    "training_padded = pad_sequences(training_sequences, maxlen=max_length, padding=padding_type, truncating=trunc_type)\n",
    "\n",
    "testing_sequences = tokenizer.texts_to_sequences(testing_sentences)\n",
    "testing_padded = pad_sequences(testing_sequences, maxlen=max_length, padding=padding_type, truncating=trunc_type)"
   ]
  },
  {
   "cell_type": "code",
   "execution_count": 60,
   "metadata": {},
   "outputs": [],
   "source": [
    "# Need this block to get it to work with TensorFlow 2.x\n",
    "training_padded = np.array(training_padded)\n",
    "training_labels = np.array(training_labels)\n",
    "testing_padded = np.array(testing_padded)\n",
    "testing_labels = np.array(testing_labels)"
   ]
  },
  {
   "cell_type": "code",
   "execution_count": 61,
   "metadata": {},
   "outputs": [
    {
     "name": "stdout",
     "output_type": "stream",
     "text": [
      "Model: \"sequential_8\"\n",
      "_________________________________________________________________\n",
      "Layer (type)                 Output Shape              Param #   \n",
      "=================================================================\n",
      "embedding_9 (Embedding)      (None, 1000, 150)         375000    \n",
      "_________________________________________________________________\n",
      "global_average_pooling1d_9 ( (None, 150)               0         \n",
      "_________________________________________________________________\n",
      "dense_18 (Dense)             (None, 24)                3624      \n",
      "_________________________________________________________________\n",
      "dense_19 (Dense)             (None, 1)                 25        \n",
      "=================================================================\n",
      "Total params: 378,649\n",
      "Trainable params: 378,649\n",
      "Non-trainable params: 0\n",
      "_________________________________________________________________\n"
     ]
    }
   ],
   "source": [
    "model = tf.keras.Sequential([\n",
    "    tf.keras.layers.Embedding(vocab_size, embedding_dim, input_length=max_length),\n",
    "    tf.keras.layers.GlobalAveragePooling1D(),\n",
    "    tf.keras.layers.Dense(24, activation='relu'),\n",
    "    tf.keras.layers.Dense(1, activation='sigmoid')\n",
    "])\n",
    "model.compile(loss='binary_crossentropy',optimizer='adam',metrics=['accuracy'])\n",
    "model.summary()"
   ]
  },
  {
   "cell_type": "code",
   "execution_count": 64,
   "metadata": {},
   "outputs": [
    {
     "name": "stdout",
     "output_type": "stream",
     "text": [
      "Epoch 1/30\n",
      "625/625 - 9s - loss: 0.2678 - accuracy: 0.8834 - val_loss: 0.4529 - val_accuracy: 0.8058\n",
      "Epoch 2/30\n",
      "625/625 - 9s - loss: 0.2727 - accuracy: 0.8788 - val_loss: 0.3902 - val_accuracy: 0.8301\n",
      "Epoch 3/30\n",
      "625/625 - 9s - loss: 0.2713 - accuracy: 0.8832 - val_loss: 0.3893 - val_accuracy: 0.8307\n",
      "Epoch 4/30\n",
      "625/625 - 9s - loss: 0.2671 - accuracy: 0.8850 - val_loss: 0.4098 - val_accuracy: 0.8246\n",
      "Epoch 5/30\n",
      "625/625 - 9s - loss: 0.2686 - accuracy: 0.8844 - val_loss: 0.3960 - val_accuracy: 0.8307\n",
      "Epoch 6/30\n",
      "625/625 - 9s - loss: 0.2693 - accuracy: 0.8837 - val_loss: 0.3947 - val_accuracy: 0.8307\n",
      "Epoch 7/30\n",
      "625/625 - 9s - loss: 0.2662 - accuracy: 0.8839 - val_loss: 0.4594 - val_accuracy: 0.8056\n",
      "Epoch 8/30\n",
      "625/625 - 9s - loss: 0.2698 - accuracy: 0.8852 - val_loss: 0.3978 - val_accuracy: 0.8295\n",
      "Epoch 9/30\n",
      "625/625 - 9s - loss: 0.2681 - accuracy: 0.8856 - val_loss: 0.4179 - val_accuracy: 0.8198\n",
      "Epoch 10/30\n",
      "625/625 - 9s - loss: 0.2675 - accuracy: 0.8842 - val_loss: 0.3979 - val_accuracy: 0.8293\n",
      "Epoch 11/30\n",
      "625/625 - 9s - loss: 0.2627 - accuracy: 0.8873 - val_loss: 0.3982 - val_accuracy: 0.8290\n",
      "Epoch 12/30\n",
      "625/625 - 9s - loss: 0.2673 - accuracy: 0.8821 - val_loss: 0.3990 - val_accuracy: 0.8320\n",
      "Epoch 13/30\n",
      "625/625 - 9s - loss: 0.2634 - accuracy: 0.8866 - val_loss: 0.4074 - val_accuracy: 0.8277\n",
      "Epoch 14/30\n",
      "625/625 - 9s - loss: 0.2633 - accuracy: 0.8867 - val_loss: 0.4169 - val_accuracy: 0.8226\n",
      "Epoch 15/30\n",
      "625/625 - 9s - loss: 0.2684 - accuracy: 0.8843 - val_loss: 0.3973 - val_accuracy: 0.8298\n",
      "Epoch 16/30\n",
      "625/625 - 9s - loss: 0.2638 - accuracy: 0.8867 - val_loss: 0.4196 - val_accuracy: 0.8232\n",
      "Epoch 17/30\n",
      "625/625 - 9s - loss: 0.2621 - accuracy: 0.8867 - val_loss: 0.4028 - val_accuracy: 0.8302\n",
      "Epoch 18/30\n",
      "625/625 - 9s - loss: 0.2687 - accuracy: 0.8842 - val_loss: 0.4009 - val_accuracy: 0.8298\n",
      "Epoch 19/30\n",
      "625/625 - 9s - loss: 0.2634 - accuracy: 0.8869 - val_loss: 0.4084 - val_accuracy: 0.8289\n",
      "Epoch 20/30\n",
      "625/625 - 9s - loss: 0.2650 - accuracy: 0.8866 - val_loss: 0.4184 - val_accuracy: 0.8213\n",
      "Epoch 21/30\n",
      "625/625 - 9s - loss: 0.2604 - accuracy: 0.8859 - val_loss: 0.4133 - val_accuracy: 0.8237\n",
      "Epoch 22/30\n",
      "625/625 - 9s - loss: 0.2643 - accuracy: 0.8856 - val_loss: 0.4125 - val_accuracy: 0.8252\n",
      "Epoch 23/30\n",
      "625/625 - 9s - loss: 0.2666 - accuracy: 0.8834 - val_loss: 0.4035 - val_accuracy: 0.8298\n",
      "Epoch 24/30\n",
      "625/625 - 9s - loss: 0.2666 - accuracy: 0.8842 - val_loss: 0.4128 - val_accuracy: 0.8234\n",
      "Epoch 25/30\n",
      "625/625 - 9s - loss: 0.2551 - accuracy: 0.8931 - val_loss: 0.4254 - val_accuracy: 0.8223\n",
      "Epoch 26/30\n",
      "625/625 - 9s - loss: 0.2610 - accuracy: 0.8881 - val_loss: 0.4179 - val_accuracy: 0.8223\n",
      "Epoch 27/30\n",
      "625/625 - 9s - loss: 0.2558 - accuracy: 0.8901 - val_loss: 0.4342 - val_accuracy: 0.8189\n",
      "Epoch 28/30\n",
      "625/625 - 9s - loss: 0.2663 - accuracy: 0.8838 - val_loss: 0.4090 - val_accuracy: 0.8292\n",
      "Epoch 29/30\n",
      "625/625 - 9s - loss: 0.2606 - accuracy: 0.8888 - val_loss: 0.4106 - val_accuracy: 0.8252\n",
      "Epoch 30/30\n",
      "625/625 - 9s - loss: 0.2570 - accuracy: 0.8909 - val_loss: 0.4158 - val_accuracy: 0.8265\n"
     ]
    }
   ],
   "source": [
    "num_epochs = 30\n",
    "history = model.fit(training_padded, training_labels, epochs=num_epochs, validation_data=(testing_padded, testing_labels), verbose=2)"
   ]
  },
  {
   "cell_type": "code",
   "execution_count": 65,
   "metadata": {},
   "outputs": [
    {
     "data": {
      "image/png": "[encoded data removed]",
      "text/plain": [
       "<Figure size 432x288 with 1 Axes>"
      ]
     },
     "metadata": {
      "needs_background": "light"
     },
     "output_type": "display_data"
    },
    {
     "data": {
      "image/png": "[encoded data removed]",
      "text/plain": [
       "<Figure size 432x288 with 1 Axes>"
      ]
     },
     "metadata": {
      "needs_background": "light"
     },
     "output_type": "display_data"
    }
   ],
   "source": [
    "import matplotlib.pyplot as plt\n",
    "\n",
    "\n",
    "def plot_graphs(history, string):\n",
    "  plt.plot(history.history[string])\n",
    "  plt.plot(history.history['val_'+string])\n",
    "  plt.xlabel(\"Epochs\")\n",
    "  plt.ylabel(string)\n",
    "  plt.legend([string, 'val_'+string])\n",
    "  plt.show()\n",
    "  \n",
    "plot_graphs(history, \"accuracy\")\n",
    "plot_graphs(history, \"loss\")"
   ]
  },
  {
   "cell_type": "code",
   "execution_count": null,
   "metadata": {},
   "outputs": [],
   "source": []
  },
  {
   "cell_type": "code",
   "execution_count": null,
   "metadata": {},
   "outputs": [],
   "source": []
  }
 ],
 "metadata": {
  "kernelspec": {
   "display_name": "tensorflow2",
   "language": "python",
   "name": "tensorflow2"
  },
  "language_info": {
   "codemirror_mode": {
    "name": "ipython",
    "version": 3
   },
   "file_extension": ".py",
   "mimetype": "text/x-python",
   "name": "python",
   "nbconvert_exporter": "python",
   "pygments_lexer": "ipython3",
   "version": "3.7.4"
  }
 },
 "nbformat": 4,
 "nbformat_minor": 4
}
