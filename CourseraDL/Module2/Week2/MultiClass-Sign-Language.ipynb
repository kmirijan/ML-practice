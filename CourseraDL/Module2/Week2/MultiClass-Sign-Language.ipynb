{
 "cells": [
  {
   "cell_type": "code",
   "execution_count": 2,
   "metadata": {},
   "outputs": [
    {
     "name": "stdout",
     "output_type": "stream",
     "text": [
      "1 Physical GPUs, 1 Logical GPUs\n"
     ]
    }
   ],
   "source": [
    "import os\n",
    "import tensorflow as tf\n",
    "from tensorflow.keras import layers\n",
    "from tensorflow.keras import Model\n",
    "from os import getcwd\n",
    "import csv\n",
    "import numpy as np\n",
    "\n",
    "from tensorflow.keras.applications.inception_v3 import InceptionV3\n",
    "\n",
    "tf.config.list_physical_devices('GPU') \n",
    "gpus = tf.config.experimental.list_physical_devices('GPU')\n",
    "if gpus:\n",
    "    try:\n",
    "        # Currently, memory growth needs to be the same across GPUs\n",
    "        for gpu in gpus:\n",
    "            tf.config.experimental.set_memory_growth(gpu, True)\n",
    "        logical_gpus = tf.config.experimental.list_logical_devices('GPU')\n",
    "        print(len(gpus), \"Physical GPUs,\", len(logical_gpus), \"Logical GPUs\")\n",
    "    except RuntimeError as e:\n",
    "        # Memory growth must be set before GPUs have been initialized\n",
    "        print(e)\n",
    "        \n",
    "DATAPATH = os.path.abspath('../../data/')"
   ]
  },
  {
   "cell_type": "code",
   "execution_count": 3,
   "metadata": {},
   "outputs": [
    {
     "name": "stdout",
     "output_type": "stream",
     "text": [
      "(27455, 28, 28)\n",
      "(27455,)\n",
      "(7172, 28, 28)\n",
      "(7172,)\n"
     ]
    }
   ],
   "source": [
    "def get_data(filename):\n",
    "    images = []\n",
    "    labels = []\n",
    "    with open(filename) as training_file:\n",
    "        csv_reader = csv.reader(training_file)\n",
    "        for i, row in enumerate(csv_reader):\n",
    "            if i == 0:\n",
    "                continue\n",
    "            label = row[0]\n",
    "            \n",
    "            image = row[1:785]\n",
    "            image = np.reshape(image, (28,28))\n",
    "            \n",
    "            images.append(image)\n",
    "            labels.append(label)\n",
    "      # Your code starts here\n",
    "      # Your code ends here\n",
    "    images = np.array(images).astype(float)\n",
    "    labels = np.array(labels).astype(float)\n",
    "    return images, labels\n",
    "\n",
    "path_sign_mnist_train = os.path.join(DATAPATH, \"sign_mnist_train.csv\")\n",
    "path_sign_mnist_test = os.path.join(DATAPATH, \"sign_mnist_test.csv\")\n",
    "training_images, training_labels = get_data(path_sign_mnist_train)\n",
    "testing_images, testing_labels = get_data(path_sign_mnist_test)\n",
    "\n",
    "print(training_images.shape)\n",
    "print(training_labels.shape)\n",
    "print(testing_images.shape)\n",
    "print(testing_labels.shape)"
   ]
  },
  {
   "cell_type": "code",
   "execution_count": 4,
   "metadata": {},
   "outputs": [
    {
     "name": "stdout",
     "output_type": "stream",
     "text": [
      "(27455, 28, 28, 1)\n",
      "(7172, 28, 28, 1)\n"
     ]
    }
   ],
   "source": [
    "from tensorflow.keras.preprocessing.image import ImageDataGenerator\n",
    "\n",
    "training_images = np.reshape(training_images, (-1, 28, 28 ,1))\n",
    "testing_images = np.reshape(testing_images, (-1, 28, 28 ,1))\n",
    "\n",
    "train_datagen = ImageDataGenerator(\n",
    "      rescale = 1./255,\n",
    "      rotation_range=20,\n",
    "      width_shift_range=0.1,\n",
    "      height_shift_range=0.1,\n",
    "      shear_range=0.1,\n",
    "      zoom_range=0.1,\n",
    "#       horizontal_flip=True,\n",
    "      fill_mode='nearest')\n",
    "\n",
    "train_datagen.fit(training_images)\n",
    "\n",
    "validation_datagen = ImageDataGenerator(rescale=1./255)\n",
    "validation_datagen.fit(testing_images)\n",
    "\n",
    "BS = 16\n",
    "\n",
    "training_labels = tf.keras.utils.to_categorical(training_labels, num_classes = 25)\n",
    "testing_labels = tf.keras.utils.to_categorical(testing_labels, num_classes = 25)\n",
    "\n",
    "train_generator = train_datagen.flow(training_images, training_labels, batch_size=BS)\n",
    "validation_generator = validation_datagen.flow(testing_images, testing_labels, batch_size=BS)\n",
    "    \n",
    "print(training_images.shape)\n",
    "print(testing_images.shape)\n"
   ]
  },
  {
   "cell_type": "code",
   "execution_count": 5,
   "metadata": {},
   "outputs": [
    {
     "name": "stderr",
     "output_type": "stream",
     "text": [
      "C:\\Users\\Khachatur\\Miniconda3\\lib\\site-packages\\tensorflow\\python\\keras\\engine\\training.py:1844: UserWarning: `Model.fit_generator` is deprecated and will be removed in a future version. Please use `Model.fit`, which supports generators.\n",
      "  warnings.warn('`Model.fit_generator` is deprecated and '\n"
     ]
    },
    {
     "name": "stdout",
     "output_type": "stream",
     "text": [
      "Epoch 1/3\n",
      "1715/1715 [==============================] - 14s 6ms/step - loss: 2.5262 - accuracy: 0.2412 - val_loss: 0.6612 - val_accuracy: 0.7553\n",
      "Epoch 2/3\n",
      "1715/1715 [==============================] - 11s 6ms/step - loss: 0.9931 - accuracy: 0.6782 - val_loss: 0.3539 - val_accuracy: 0.8888\n",
      "Epoch 3/3\n",
      "1715/1715 [==============================] - 11s 6ms/step - loss: 0.6712 - accuracy: 0.7795 - val_loss: 0.2046 - val_accuracy: 0.9220\n"
     ]
    },
    {
     "data": {
      "text/plain": [
       "[0.2045125514268875, 0.9220579862594604]"
      ]
     },
     "execution_count": 5,
     "metadata": {},
     "output_type": "execute_result"
    }
   ],
   "source": [
    "model = tf.keras.models.Sequential([\n",
    "    tf.keras.layers.Conv2D(64, (3,3), activation='relu', input_shape=(28, 28, 1)),\n",
    "    tf.keras.layers.MaxPooling2D(2, 2),\n",
    "    tf.keras.layers.Conv2D(64, (3,3), activation='relu'),\n",
    "    tf.keras.layers.MaxPooling2D(2,2),\n",
    "    # Flatten the results to feed into a DNN\n",
    "    tf.keras.layers.Flatten(),\n",
    "    tf.keras.layers.Dropout(0.2),\n",
    "    # 512 neuron hidden layer\n",
    "    tf.keras.layers.Dense(64, activation='relu'),\n",
    "    tf.keras.layers.Dense(25, activation='softmax')\n",
    "])\n",
    "\n",
    " \n",
    "model.compile(loss = 'categorical_crossentropy', optimizer='rmsprop', metrics=['accuracy'])\n",
    "\n",
    "history = model.fit_generator(train_generator, \n",
    "                              epochs=3, \n",
    "                              steps_per_epoch=len(training_images)//BS, \n",
    "                              validation_data = validation_generator, \n",
    "                              verbose = 1, \n",
    "                              validation_steps=len(testing_images)//BS)\n",
    "\n",
    "model.evaluate(testing_images/255., testing_labels, verbose=0)"
   ]
  },
  {
   "cell_type": "code",
   "execution_count": 6,
   "metadata": {},
   "outputs": [
    {
     "data": {
      "image/png": "[encoded data removed]",
      "text/plain": [
       "<Figure size 432x288 with 1 Axes>"
      ]
     },
     "metadata": {
      "needs_background": "light"
     },
     "output_type": "display_data"
    },
    {
     "data": {
      "image/png": "[encoded data removed]",
      "text/plain": [
       "<Figure size 432x288 with 1 Axes>"
      ]
     },
     "metadata": {
      "needs_background": "light"
     },
     "output_type": "display_data"
    }
   ],
   "source": [
    "%matplotlib inline\n",
    "import matplotlib.pyplot as plt\n",
    "acc = history.history['accuracy']\n",
    "val_acc = history.history['val_accuracy']\n",
    "loss = history.history['loss']\n",
    "val_loss = history.history['val_loss']\n",
    "\n",
    "epochs = range(len(acc))\n",
    "\n",
    "plt.plot(epochs, acc, 'r', label='Training accuracy')\n",
    "plt.plot(epochs, val_acc, 'b', label='Validation accuracy')\n",
    "plt.title('Training and validation accuracy')\n",
    "plt.legend()\n",
    "plt.figure()\n",
    "\n",
    "plt.plot(epochs, loss, 'r', label='Training Loss')\n",
    "plt.plot(epochs, val_loss, 'b', label='Validation Loss')\n",
    "plt.title('Training and validation loss')\n",
    "plt.legend()\n",
    "\n",
    "plt.show()"
   ]
  },
  {
   "cell_type": "code",
   "execution_count": null,
   "metadata": {},
   "outputs": [],
   "source": []
  }
 ],
 "metadata": {
  "kernelspec": {
   "display_name": "tensorflow2",
   "language": "python",
   "name": "tensorflow2"
  },
  "language_info": {
   "codemirror_mode": {
    "name": "ipython",
    "version": 3
   },
   "file_extension": ".py",
   "mimetype": "text/x-python",
   "name": "python",
   "nbconvert_exporter": "python",
   "pygments_lexer": "ipython3",
   "version": "3.7.4"
  }
 },
 "nbformat": 4,
 "nbformat_minor": 4
}
