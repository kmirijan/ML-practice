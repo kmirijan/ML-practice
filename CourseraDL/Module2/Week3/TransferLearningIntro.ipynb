{
 "cells": [
  {
   "cell_type": "code",
   "execution_count": 1,
   "metadata": {},
   "outputs": [
    {
     "name": "stdout",
     "output_type": "stream",
     "text": [
      "1 Physical GPUs, 1 Logical GPUs\n"
     ]
    }
   ],
   "source": [
    "import os\n",
    "import tensorflow as tf\n",
    "from tensorflow.keras import layers\n",
    "from tensorflow.keras import Model\n",
    "\n",
    "from tensorflow.keras.applications.inception_v3 import InceptionV3\n",
    "tf.config.list_physical_devices('GPU') \n",
    "gpus = tf.config.experimental.list_physical_devices('GPU')\n",
    "if gpus:\n",
    "    try:\n",
    "        # Currently, memory growth needs to be the same across GPUs\n",
    "        for gpu in gpus:\n",
    "            tf.config.experimental.set_memory_growth(gpu, True)\n",
    "        logical_gpus = tf.config.experimental.list_logical_devices('GPU')\n",
    "        print(len(gpus), \"Physical GPUs,\", len(logical_gpus), \"Logical GPUs\")\n",
    "    except RuntimeError as e:\n",
    "        # Memory growth must be set before GPUs have been initialized\n",
    "        print(e)\n",
    "\n",
    "\n",
    "DATAPATH = os.path.abspath('../../data/')"
   ]
  },
  {
   "cell_type": "code",
   "execution_count": 2,
   "metadata": {},
   "outputs": [],
   "source": [
    "local_weights_path = os.path.join(DATAPATH, 'inception_v3_weights_tf_dim_ordering_tf_kernels_notop.h5')\n",
    "\n",
    "pre_trained_model = InceptionV3(input_shape = (150, 150, 3), \n",
    "                                include_top = False, \n",
    "                                weights = None)\n",
    "\n",
    "pre_trained_model.load_weights(local_weights_path)"
   ]
  },
  {
   "cell_type": "code",
   "execution_count": 3,
   "metadata": {},
   "outputs": [
    {
     "name": "stdout",
     "output_type": "stream",
     "text": [
      "last layer output shape:  (None, 7, 7, 768)\n"
     ]
    }
   ],
   "source": [
    "for layer in pre_trained_model.layers:\n",
    "  layer.trainable = False\n",
    "\n",
    "last_layer = pre_trained_model.get_layer('mixed7')\n",
    "print('last layer output shape: ', last_layer.output_shape)\n",
    "last_output = last_layer.output"
   ]
  },
  {
   "cell_type": "code",
   "execution_count": 4,
   "metadata": {},
   "outputs": [],
   "source": [
    "from tensorflow.keras.optimizers import RMSprop\n",
    "\n",
    "# Flatten the output layer to 1 dimension\n",
    "x = layers.Flatten()(last_output)\n",
    "# Add a fully connected layer with 1,024 hidden units and ReLU activation\n",
    "x = layers.Dense(1024, activation='relu')(x)\n",
    "# Add a dropout rate of 0.2\n",
    "x = layers.Dropout(0.2)(x)                  \n",
    "# Add a final sigmoid layer for classification\n",
    "x = layers.Dense  (1, activation='sigmoid')(x)           \n",
    "\n",
    "model = Model( pre_trained_model.input, x) \n",
    "\n",
    "model.compile(optimizer = RMSprop(lr=0.0001), \n",
    "              loss = 'binary_crossentropy', \n",
    "              metrics = ['accuracy'])\n"
   ]
  },
  {
   "cell_type": "code",
   "execution_count": 5,
   "metadata": {},
   "outputs": [],
   "source": [
    "# import zipfile\n",
    "\n",
    "# local_zip = os.path.join(DATAPATH, 'cats_and_dogs_filtered.zip')\n",
    "# zip_ref = zipfile.ZipFile(local_zip, 'r')\n",
    "# zip_ref.extractall(DATAPATH)\n",
    "# zip_ref.close()"
   ]
  },
  {
   "cell_type": "code",
   "execution_count": 6,
   "metadata": {},
   "outputs": [],
   "source": [
    "base_dir = os.path.join(DATAPATH, 'cats_and_dogs_filtered')\n",
    "train_dir = os.path.join(base_dir, 'train')\n",
    "validation_dir = os.path.join(base_dir, 'validation')\n",
    "\n",
    "# Directory with our training cat pictures\n",
    "train_cats_dir = os.path.join(train_dir, 'cats')\n",
    "\n",
    "# Directory with our training dog pictures\n",
    "train_dogs_dir = os.path.join(train_dir, 'dogs')\n",
    "\n",
    "# Directory with our validation cat pictures\n",
    "validation_cats_dir = os.path.join(validation_dir, 'cats')\n",
    "\n",
    "# Directory with our validation dog pictures\n",
    "validation_dogs_dir = os.path.join(validation_dir, 'dogs')"
   ]
  },
  {
   "cell_type": "code",
   "execution_count": 8,
   "metadata": {},
   "outputs": [
    {
     "name": "stdout",
     "output_type": "stream",
     "text": [
      "Found 2000 images belonging to 2 classes.\n",
      "Found 1000 images belonging to 2 classes.\n"
     ]
    }
   ],
   "source": [
    "from tensorflow.keras.preprocessing.image import ImageDataGenerator\n",
    "\n",
    "train_datagen = ImageDataGenerator(rescale = 1./255.,\n",
    "                                   rotation_range = 40,\n",
    "                                   width_shift_range = 0.2,\n",
    "                                   height_shift_range = 0.2,\n",
    "                                   shear_range = 0.2,\n",
    "                                   zoom_range = 0.2,\n",
    "                                   horizontal_flip = True)\n",
    "\n",
    "test_datagen = ImageDataGenerator( rescale = 1.0/255. )\n",
    "\n",
    "# Flow training images in batches of 10 using train_datagen generator\n",
    "train_generator = train_datagen.flow_from_directory(train_dir,\n",
    "                                                    batch_size = 10,\n",
    "                                                    class_mode = 'binary', \n",
    "                                                    target_size = (150, 150))     \n",
    "\n",
    "# Flow validation images in batches of 10 using test_datagen generator\n",
    "validation_generator =  test_datagen.flow_from_directory( validation_dir,\n",
    "                                                          batch_size  = 10,\n",
    "                                                          class_mode  = 'binary', \n",
    "                                                          target_size = (150, 150))"
   ]
  },
  {
   "cell_type": "code",
   "execution_count": 9,
   "metadata": {},
   "outputs": [
    {
     "name": "stdout",
     "output_type": "stream",
     "text": [
      "Epoch 1/20\n",
      "200/200 - 30s - loss: 0.3511 - accuracy: 0.8720 - val_loss: 0.1406 - val_accuracy: 0.9550\n",
      "Epoch 2/20\n",
      "200/200 - 12s - loss: 0.2414 - accuracy: 0.9175 - val_loss: 0.1689 - val_accuracy: 0.9510\n",
      "Epoch 3/20\n",
      "200/200 - 12s - loss: 0.2311 - accuracy: 0.9190 - val_loss: 0.2189 - val_accuracy: 0.9510\n",
      "Epoch 4/20\n",
      "200/200 - 12s - loss: 0.2183 - accuracy: 0.9305 - val_loss: 0.1824 - val_accuracy: 0.9550\n",
      "Epoch 5/20\n",
      "200/200 - 13s - loss: 0.2337 - accuracy: 0.9290 - val_loss: 0.1820 - val_accuracy: 0.9620\n",
      "Epoch 6/20\n",
      "200/200 - 14s - loss: 0.2014 - accuracy: 0.9385 - val_loss: 0.1684 - val_accuracy: 0.9640\n",
      "Epoch 7/20\n",
      "200/200 - 13s - loss: 0.2342 - accuracy: 0.9340 - val_loss: 0.1425 - val_accuracy: 0.9690\n",
      "Epoch 8/20\n",
      "200/200 - 13s - loss: 0.2132 - accuracy: 0.9360 - val_loss: 0.1209 - val_accuracy: 0.9710\n",
      "Epoch 9/20\n",
      "200/200 - 13s - loss: 0.1886 - accuracy: 0.9455 - val_loss: 0.1246 - val_accuracy: 0.9670\n",
      "Epoch 10/20\n",
      "200/200 - 13s - loss: 0.1829 - accuracy: 0.9525 - val_loss: 0.1253 - val_accuracy: 0.9710\n",
      "Epoch 11/20\n",
      "200/200 - 12s - loss: 0.1748 - accuracy: 0.9465 - val_loss: 0.1287 - val_accuracy: 0.9670\n",
      "Epoch 12/20\n",
      "200/200 - 12s - loss: 0.1847 - accuracy: 0.9500 - val_loss: 0.1508 - val_accuracy: 0.9630\n",
      "Epoch 13/20\n",
      "200/200 - 13s - loss: 0.1358 - accuracy: 0.9530 - val_loss: 0.2941 - val_accuracy: 0.9450\n",
      "Epoch 14/20\n",
      "200/200 - 13s - loss: 0.1694 - accuracy: 0.9560 - val_loss: 0.1623 - val_accuracy: 0.9660\n",
      "Epoch 15/20\n",
      "200/200 - 12s - loss: 0.1570 - accuracy: 0.9500 - val_loss: 0.2604 - val_accuracy: 0.9520\n",
      "Epoch 16/20\n",
      "200/200 - 12s - loss: 0.1638 - accuracy: 0.9520 - val_loss: 0.3008 - val_accuracy: 0.9410\n",
      "Epoch 17/20\n",
      "200/200 - 12s - loss: 0.1592 - accuracy: 0.9580 - val_loss: 0.1636 - val_accuracy: 0.9640\n",
      "Epoch 18/20\n",
      "200/200 - 12s - loss: 0.1721 - accuracy: 0.9520 - val_loss: 0.1666 - val_accuracy: 0.9610\n",
      "Epoch 19/20\n",
      "200/200 - 13s - loss: 0.1518 - accuracy: 0.9615 - val_loss: 0.1941 - val_accuracy: 0.9530\n",
      "Epoch 20/20\n",
      "200/200 - 13s - loss: 0.1417 - accuracy: 0.9615 - val_loss: 0.1539 - val_accuracy: 0.9670\n"
     ]
    }
   ],
   "source": [
    "history = model.fit(\n",
    "            train_generator,\n",
    "            validation_data = validation_generator,\n",
    "            steps_per_epoch = 200,\n",
    "            epochs = 20,\n",
    "            validation_steps = 100,\n",
    "            verbose = 2)"
   ]
  },
  {
   "cell_type": "code",
   "execution_count": 10,
   "metadata": {},
   "outputs": [
    {
     "data": {
      "image/png": "[encoded data removed]",
      "text/plain": [
       "<Figure size 432x288 with 1 Axes>"
      ]
     },
     "metadata": {
      "needs_background": "light"
     },
     "output_type": "display_data"
    },
    {
     "data": {
      "text/plain": [
       "<Figure size 432x288 with 0 Axes>"
      ]
     },
     "metadata": {},
     "output_type": "display_data"
    }
   ],
   "source": [
    "import matplotlib.pyplot as plt\n",
    "acc = history.history['accuracy']\n",
    "val_acc = history.history['val_accuracy']\n",
    "loss = history.history['loss']\n",
    "val_loss = history.history['val_loss']\n",
    "\n",
    "epochs = range(len(acc))\n",
    "\n",
    "plt.plot(epochs, acc, 'r', label='Training accuracy')\n",
    "plt.plot(epochs, val_acc, 'b', label='Validation accuracy')\n",
    "plt.title('Training and validation accuracy')\n",
    "plt.legend(loc=0)\n",
    "plt.figure()\n",
    "\n",
    "\n",
    "plt.show()"
   ]
  },
  {
   "cell_type": "code",
   "execution_count": null,
   "metadata": {},
   "outputs": [],
   "source": []
  }
 ],
 "metadata": {
  "kernelspec": {
   "display_name": "tensorflow2",
   "language": "python",
   "name": "tensorflow2"
  },
  "language_info": {
   "codemirror_mode": {
    "name": "ipython",
    "version": 3
   },
   "file_extension": ".py",
   "mimetype": "text/x-python",
   "name": "python",
   "nbconvert_exporter": "python",
   "pygments_lexer": "ipython3",
   "version": "3.7.4"
  }
 },
 "nbformat": 4,
 "nbformat_minor": 4
}
