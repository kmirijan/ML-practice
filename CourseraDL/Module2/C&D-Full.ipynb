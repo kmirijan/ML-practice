{
 "cells": [
  {
   "cell_type": "code",
   "execution_count": 1,
   "metadata": {},
   "outputs": [
    {
     "name": "stdout",
     "output_type": "stream",
     "text": [
      "1 Physical GPUs, 1 Logical GPUs\n"
     ]
    }
   ],
   "source": [
    "# ATTENTION: Please do not alter any of the provided code in the exercise. Only add your own code where indicated\n",
    "# ATTENTION: Please do not add or remove any cells in the exercise. The grader will check specific cells based on the cell position.\n",
    "# ATTENTION: Please use the provided epoch values when training.\n",
    "\n",
    "# In this exercise you will train a CNN on the FULL Cats-v-dogs dataset\n",
    "# This will require you doing a lot of data preprocessing because\n",
    "# the dataset isn't split into training and validation for you\n",
    "# This code block has all the required inputs\n",
    "import os\n",
    "import zipfile\n",
    "import random\n",
    "import tensorflow as tf\n",
    "import shutil\n",
    "from tensorflow.keras.optimizers import RMSprop\n",
    "from tensorflow.keras.preprocessing.image import ImageDataGenerator\n",
    "from shutil import copyfile\n",
    "from os import getcwd\n",
    "\n",
    "tf.config.list_physical_devices('GPU') \n",
    "gpus = tf.config.experimental.list_physical_devices('GPU')\n",
    "if gpus:\n",
    "    try:\n",
    "        # Currently, memory growth needs to be the same across GPUs\n",
    "        for gpu in gpus:\n",
    "            tf.config.experimental.set_memory_growth(gpu, True)\n",
    "        logical_gpus = tf.config.experimental.list_logical_devices('GPU')\n",
    "        print(len(gpus), \"Physical GPUs,\", len(logical_gpus), \"Logical GPUs\")\n",
    "    except RuntimeError as e:\n",
    "        # Memory growth must be set before GPUs have been initialized\n",
    "        print(e)"
   ]
  },
  {
   "cell_type": "code",
   "execution_count": 2,
   "metadata": {},
   "outputs": [],
   "source": [
    "path_cats_and_dogs = \"../data/cats-and-dogs.zip\"\n",
    "\n",
    "local_zip = path_cats_and_dogs\n",
    "zip_ref = zipfile.ZipFile(local_zip, 'r')\n",
    "zip_ref.extractall('../data')\n",
    "zip_ref.close()"
   ]
  },
  {
   "cell_type": "code",
   "execution_count": 4,
   "metadata": {},
   "outputs": [
    {
     "name": "stdout",
     "output_type": "stream",
     "text": [
      "1500\n",
      "1500\n"
     ]
    }
   ],
   "source": [
    "print(len(os.listdir('../data/PetImages/Cat/')))\n",
    "print(len(os.listdir('../data/PetImages/Dog/')))\n",
    "\n",
    "# Expected Output:\n",
    "# 1500\n",
    "# 1500"
   ]
  },
  {
   "cell_type": "code",
   "execution_count": 6,
   "metadata": {},
   "outputs": [],
   "source": [
    "try:\n",
    "    os.mkdir(\"../data/cats-v-dogs/\")\n",
    "    os.mkdir(\"../data/cats-v-dogs/training\")\n",
    "    os.mkdir(\"../data/cats-v-dogs/testing\")\n",
    "    os.mkdir(\"../data/cats-v-dogs/training/cats\")\n",
    "    os.mkdir(\"../data/cats-v-dogs/training/dogs\")\n",
    "    os.mkdir(\"../data/cats-v-dogs/testing/cats\")\n",
    "    os.mkdir(\"../data/cats-v-dogs/testing/dogs\")\n",
    "except OSError as e:\n",
    "    print(e)\n",
    "    pass"
   ]
  },
  {
   "cell_type": "code",
   "execution_count": 7,
   "metadata": {},
   "outputs": [],
   "source": [
    "def split_data(SOURCE, TRAINING, TESTING, SPLIT_SIZE):\n",
    "    file_list = os.listdir(SOURCE)\n",
    "    file_list = random.sample(file_list, len(file_list))\n",
    "    train = file_list[0:int(len(file_list)*SPLIT_SIZE)]\n",
    "    test = file_list[int(len(file_list)*SPLIT_SIZE):]\n",
    "    \n",
    "    for file in train:\n",
    "        file_path = SOURCE + file\n",
    "        if os.path.getsize(file_path) > 0:\n",
    "            copyfile(file_path, TRAINING+file)\n",
    "            \n",
    "    for file in test:\n",
    "        file_path = SOURCE + file\n",
    "        if os.path.getsize(file_path) > 0:\n",
    "            copyfile(file_path, TESTING+file)\n",
    "\n",
    "CAT_SOURCE_DIR = \"../data/PetImages/Cat/\"\n",
    "TRAINING_CATS_DIR = \"../data/cats-v-dogs/training/cats/\"\n",
    "TESTING_CATS_DIR = \"../data/cats-v-dogs/testing/cats/\"\n",
    "DOG_SOURCE_DIR = \"../data/PetImages/Dog/\"\n",
    "TRAINING_DOGS_DIR = \"../data/cats-v-dogs/training/dogs/\"\n",
    "TESTING_DOGS_DIR = \"../data/cats-v-dogs/testing/dogs/\"\n",
    "\n",
    "split_size = .9\n",
    "split_data(CAT_SOURCE_DIR, TRAINING_CATS_DIR, TESTING_CATS_DIR, split_size)\n",
    "split_data(DOG_SOURCE_DIR, TRAINING_DOGS_DIR, TESTING_DOGS_DIR, split_size)"
   ]
  },
  {
   "cell_type": "code",
   "execution_count": 9,
   "metadata": {},
   "outputs": [
    {
     "name": "stdout",
     "output_type": "stream",
     "text": [
      "1350\n",
      "1350\n",
      "150\n",
      "150\n"
     ]
    }
   ],
   "source": [
    "print(len(os.listdir('../data/cats-v-dogs/training/cats/')))\n",
    "print(len(os.listdir('../data/cats-v-dogs/training/dogs/')))\n",
    "print(len(os.listdir('../data/cats-v-dogs/testing/cats/')))\n",
    "print(len(os.listdir('../data/cats-v-dogs/testing/dogs/')))\n",
    "\n",
    "# Expected output:\n",
    "# 1350\n",
    "# 1350\n",
    "# 150\n",
    "# 150"
   ]
  },
  {
   "cell_type": "code",
   "execution_count": 10,
   "metadata": {},
   "outputs": [],
   "source": [
    "model = tf.keras.models.Sequential([\n",
    "# Input shape is the desired size of the image 150x150 with 3 bytes color\n",
    "    tf.keras.layers.Conv2D(16, (3,3), activation='relu', input_shape=(150, 150, 3)),\n",
    "    tf.keras.layers.MaxPooling2D(2,2),\n",
    "    tf.keras.layers.Conv2D(32, (3,3), activation='relu'),\n",
    "    tf.keras.layers.MaxPooling2D(2,2), \n",
    "    tf.keras.layers.Conv2D(64, (3,3), activation='relu'), \n",
    "    tf.keras.layers.MaxPooling2D(2,2),\n",
    "    # Flatten the results to feed into a DNN\n",
    "    tf.keras.layers.Flatten(), \n",
    "    # 512 neuron hidden layer\n",
    "    tf.keras.layers.Dense(512, activation='relu'), \n",
    "    # Only 1 output neuron. It will contain a value from 0-1 where 0 for 1 class ('cats') and 1 for the other ('dogs')\n",
    "    tf.keras.layers.Dense(1, activation='sigmoid')  \n",
    "])\n",
    "\n",
    "model.compile(optimizer=RMSprop(lr=0.001), loss='binary_crossentropy', metrics=['acc'])"
   ]
  },
  {
   "cell_type": "code",
   "execution_count": 12,
   "metadata": {},
   "outputs": [
    {
     "name": "stdout",
     "output_type": "stream",
     "text": [
      "Found 2700 images belonging to 2 classes.\n",
      "Found 300 images belonging to 2 classes.\n"
     ]
    }
   ],
   "source": [
    "TRAINING_DIR = '../data/cats-v-dogs/training/'\n",
    "train_datagen = train_datagen = ImageDataGenerator( rescale = 1.0/255. )\n",
    "\n",
    "train_generator = train_datagen.flow_from_directory(TRAINING_DIR,\n",
    "                                                    batch_size=8,\n",
    "                                                    class_mode='binary',\n",
    "                                                    target_size=(150, 150))  #YOUR CODE HERE\n",
    "\n",
    "VALIDATION_DIR = '../data/cats-v-dogs/testing/'\n",
    "validation_datagen = ImageDataGenerator( rescale = 1.0/255. )\n",
    "\n",
    "validation_generator = validation_datagen.flow_from_directory(VALIDATION_DIR,\n",
    "                                                         batch_size=8,\n",
    "                                                         class_mode  = 'binary',\n",
    "                                                         target_size = (150, 150))\n",
    "\n",
    "\n",
    "\n",
    "# Expected Output:\n",
    "# Found 2700 images belonging to 2 classes.\n",
    "# Found 300 images belonging to 2 classes."
   ]
  },
  {
   "cell_type": "code",
   "execution_count": null,
   "metadata": {},
   "outputs": [
    {
     "name": "stderr",
     "output_type": "stream",
     "text": [
      "C:\\Users\\Khachatur\\Miniconda3\\lib\\site-packages\\tensorflow\\python\\keras\\engine\\training.py:1844: UserWarning: `Model.fit_generator` is deprecated and will be removed in a future version. Please use `Model.fit`, which supports generators.\n",
      "  warnings.warn('`Model.fit_generator` is deprecated and '\n"
     ]
    },
    {
     "name": "stdout",
     "output_type": "stream",
     "text": [
      "Epoch 1/20\n",
      "338/338 [==============================] - 23s 52ms/step - loss: 0.9048 - acc: 0.5753 - val_loss: 0.6130 - val_acc: 0.6467\n",
      "Epoch 2/20\n",
      "338/338 [==============================] - 5s 14ms/step - loss: 0.6301 - acc: 0.6808 - val_loss: 0.5659 - val_acc: 0.7400\n",
      "Epoch 3/20\n",
      "338/338 [==============================] - 5s 14ms/step - loss: 0.5295 - acc: 0.7573 - val_loss: 0.5525 - val_acc: 0.7067\n",
      "Epoch 4/20\n",
      "338/338 [==============================] - 4s 13ms/step - loss: 0.4679 - acc: 0.7800 - val_loss: 0.5555 - val_acc: 0.7300\n",
      "Epoch 5/20\n",
      "338/338 [==============================] - 4s 13ms/step - loss: 0.4121 - acc: 0.8253 - val_loss: 0.5234 - val_acc: 0.7400\n",
      "Epoch 6/20\n",
      "338/338 [==============================] - 5s 15ms/step - loss: 0.3430 - acc: 0.8528 - val_loss: 0.5086 - val_acc: 0.7733\n",
      "Epoch 7/20\n",
      "338/338 [==============================] - 5s 15ms/step - loss: 0.2653 - acc: 0.8891 - val_loss: 0.5876 - val_acc: 0.7400\n",
      "Epoch 8/20\n",
      "338/338 [==============================] - 5s 14ms/step - loss: 0.1933 - acc: 0.9226 - val_loss: 0.8952 - val_acc: 0.7567\n",
      "Epoch 9/20\n",
      "338/338 [==============================] - 5s 15ms/step - loss: 0.1536 - acc: 0.9385 - val_loss: 0.8889 - val_acc: 0.7900\n",
      "Epoch 10/20\n",
      "338/338 [==============================] - 5s 15ms/step - loss: 0.1100 - acc: 0.9578 - val_loss: 0.9117 - val_acc: 0.7533\n",
      "Epoch 11/20\n",
      " 84/338 [======>.......................] - ETA: 3s - loss: 0.0708 - acc: 0.9744"
     ]
    }
   ],
   "source": [
    "history = model.fit_generator(train_generator,\n",
    "                              epochs=20,\n",
    "                              verbose=1,\n",
    "                              validation_data=validation_generator)\n"
   ]
  },
  {
   "cell_type": "code",
   "execution_count": null,
   "metadata": {},
   "outputs": [],
   "source": [
    "# PLOT LOSS AND ACCURACY\n",
    "%matplotlib inline\n",
    "\n",
    "import matplotlib.image  as mpimg\n",
    "import matplotlib.pyplot as plt\n",
    "\n",
    "#-----------------------------------------------------------\n",
    "# Retrieve a list of list results on training and test data\n",
    "# sets for each training epoch\n",
    "#-----------------------------------------------------------\n",
    "acc=history.history['acc']\n",
    "val_acc=history.history['val_acc']\n",
    "loss=history.history['loss']\n",
    "val_loss=history.history['val_loss']\n",
    "\n",
    "epochs=range(len(acc)) # Get number of epochs\n",
    "\n",
    "#------------------------------------------------\n",
    "# Plot training and validation accuracy per epoch\n",
    "#------------------------------------------------\n",
    "plt.plot(epochs, acc, 'r', \"Training Accuracy\")\n",
    "plt.plot(epochs, val_acc, 'b', \"Validation Accuracy\")\n",
    "plt.title('Training and validation accuracy')\n",
    "plt.figure()\n",
    "\n",
    "#------------------------------------------------\n",
    "# Plot training and validation loss per epoch\n",
    "#------------------------------------------------\n",
    "plt.plot(epochs, loss, 'r', \"Training Loss\")\n",
    "plt.plot(epochs, val_loss, 'b', \"Validation Loss\")\n",
    "\n",
    "\n",
    "plt.title('Training and validation loss')\n",
    "\n",
    "# Desired output. Charts with training and validation metrics. No crash :)"
   ]
  },
  {
   "cell_type": "code",
   "execution_count": null,
   "metadata": {},
   "outputs": [],
   "source": []
  }
 ],
 "metadata": {
  "kernelspec": {
   "display_name": "tensorflow2",
   "language": "python",
   "name": "tensorflow2"
  },
  "language_info": {
   "codemirror_mode": {
    "name": "ipython",
    "version": 3
   },
   "file_extension": ".py",
   "mimetype": "text/x-python",
   "name": "python",
   "nbconvert_exporter": "python",
   "pygments_lexer": "ipython3",
   "version": "3.7.4"
  }
 },
 "nbformat": 4,
 "nbformat_minor": 4
}
