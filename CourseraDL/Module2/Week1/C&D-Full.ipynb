{
 "cells": [
  {
   "cell_type": "code",
   "execution_count": 18,
   "metadata": {},
   "outputs": [
    {
     "name": "stdout",
     "output_type": "stream",
     "text": [
      "1 Physical GPUs, 1 Logical GPUs\n"
     ]
    }
   ],
   "source": [
    "import os\n",
    "import zipfile\n",
    "import random\n",
    "import tensorflow as tf\n",
    "import shutil\n",
    "from tensorflow.keras.optimizers import RMSprop\n",
    "from tensorflow.keras.preprocessing.image import ImageDataGenerator\n",
    "from shutil import copyfile\n",
    "from os import getcwd\n",
    "\n",
    "tf.config.list_physical_devices('GPU') \n",
    "gpus = tf.config.experimental.list_physical_devices('GPU')\n",
    "if gpus:\n",
    "    try:\n",
    "        # Currently, memory growth needs to be the same across GPUs\n",
    "        for gpu in gpus:\n",
    "            tf.config.experimental.set_memory_growth(gpu, True)\n",
    "        logical_gpus = tf.config.experimental.list_logical_devices('GPU')\n",
    "        print(len(gpus), \"Physical GPUs,\", len(logical_gpus), \"Logical GPUs\")\n",
    "    except RuntimeError as e:\n",
    "        # Memory growth must be set before GPUs have been initialized\n",
    "        print(e)"
   ]
  },
  {
   "cell_type": "markdown",
   "metadata": {},
   "source": [
    "Assumes you are in Module 2 directory"
   ]
  },
  {
   "cell_type": "code",
   "execution_count": 19,
   "metadata": {},
   "outputs": [],
   "source": [
    "path_cats_and_dogs = \"../data/cats-and-dogs.zip\"\n",
    "\n",
    "local_zip = path_cats_and_dogs\n",
    "zip_ref = zipfile.ZipFile(local_zip, 'r')\n",
    "zip_ref.extractall('../data')\n",
    "zip_ref.close()"
   ]
  },
  {
   "cell_type": "code",
   "execution_count": 20,
   "metadata": {},
   "outputs": [
    {
     "name": "stdout",
     "output_type": "stream",
     "text": [
      "1500\n",
      "1500\n"
     ]
    }
   ],
   "source": [
    "print(len(os.listdir('../data/PetImages/Cat/')))\n",
    "print(len(os.listdir('../data/PetImages/Dog/')))\n",
    "\n",
    "# Expected Output:\n",
    "# 1500\n",
    "# 1500"
   ]
  },
  {
   "cell_type": "code",
   "execution_count": 21,
   "metadata": {},
   "outputs": [
    {
     "name": "stdout",
     "output_type": "stream",
     "text": [
      "[WinError 183] Cannot create a file when that file already exists: '../data/cats-v-dogs/'\n"
     ]
    }
   ],
   "source": [
    "try:\n",
    "    os.mkdir(\"../data/cats-v-dogs/\")\n",
    "    os.mkdir(\"../data/cats-v-dogs/training\")\n",
    "    os.mkdir(\"../data/cats-v-dogs/testing\")\n",
    "    os.mkdir(\"../data/cats-v-dogs/training/cats\")\n",
    "    os.mkdir(\"../data/cats-v-dogs/training/dogs\")\n",
    "    os.mkdir(\"../data/cats-v-dogs/testing/cats\")\n",
    "    os.mkdir(\"../data/cats-v-dogs/testing/dogs\")\n",
    "except OSError as e:\n",
    "    print(e)\n",
    "    pass"
   ]
  },
  {
   "cell_type": "code",
   "execution_count": 22,
   "metadata": {},
   "outputs": [],
   "source": [
    "def split_data(SOURCE, TRAINING, TESTING, SPLIT_SIZE):\n",
    "    file_list = os.listdir(SOURCE)\n",
    "    file_list = random.sample(file_list, len(file_list))\n",
    "    train = file_list[0:int(len(file_list)*SPLIT_SIZE)]\n",
    "    test = file_list[int(len(file_list)*SPLIT_SIZE):]\n",
    "    \n",
    "    for file in train:\n",
    "        file_path = SOURCE + file\n",
    "        if os.path.getsize(file_path) > 0:\n",
    "            copyfile(file_path, TRAINING+file)\n",
    "            \n",
    "    for file in test:\n",
    "        file_path = SOURCE + file\n",
    "        if os.path.getsize(file_path) > 0:\n",
    "            copyfile(file_path, TESTING+file)\n",
    "\n",
    "CAT_SOURCE_DIR = \"../data/PetImages/Cat/\"\n",
    "TRAINING_CATS_DIR = \"../data/cats-v-dogs/training/cats/\"\n",
    "TESTING_CATS_DIR = \"../data/cats-v-dogs/testing/cats/\"\n",
    "DOG_SOURCE_DIR = \"../data/PetImages/Dog/\"\n",
    "TRAINING_DOGS_DIR = \"../data/cats-v-dogs/training/dogs/\"\n",
    "TESTING_DOGS_DIR = \"../data/cats-v-dogs/testing/dogs/\"\n",
    "\n",
    "split_size = .9\n",
    "split_data(CAT_SOURCE_DIR, TRAINING_CATS_DIR, TESTING_CATS_DIR, split_size)\n",
    "split_data(DOG_SOURCE_DIR, TRAINING_DOGS_DIR, TESTING_DOGS_DIR, split_size)"
   ]
  },
  {
   "cell_type": "code",
   "execution_count": 9,
   "metadata": {},
   "outputs": [
    {
     "name": "stdout",
     "output_type": "stream",
     "text": [
      "1350\n",
      "1350\n",
      "150\n",
      "150\n"
     ]
    }
   ],
   "source": [
    "print(len(os.listdir('../data/cats-v-dogs/training/cats/')))\n",
    "print(len(os.listdir('../data/cats-v-dogs/training/dogs/')))\n",
    "print(len(os.listdir('../data/cats-v-dogs/testing/cats/')))\n",
    "print(len(os.listdir('../data/cats-v-dogs/testing/dogs/')))\n",
    "\n",
    "# Expected output:\n",
    "# 1350\n",
    "# 1350\n",
    "# 150\n",
    "# 150"
   ]
  },
  {
   "cell_type": "code",
   "execution_count": 10,
   "metadata": {},
   "outputs": [],
   "source": [
    "model = tf.keras.models.Sequential([\n",
    "# Input shape is the desired size of the image 150x150 with 3 bytes color\n",
    "    tf.keras.layers.Conv2D(16, (3,3), activation='relu', input_shape=(150, 150, 3)),\n",
    "    tf.keras.layers.MaxPooling2D(2,2),\n",
    "    tf.keras.layers.Conv2D(32, (3,3), activation='relu'),\n",
    "    tf.keras.layers.MaxPooling2D(2,2), \n",
    "    tf.keras.layers.Conv2D(64, (3,3), activation='relu'), \n",
    "    tf.keras.layers.MaxPooling2D(2,2),\n",
    "    # Flatten the results to feed into a DNN\n",
    "    tf.keras.layers.Flatten(), \n",
    "    # 512 neuron hidden layer\n",
    "    tf.keras.layers.Dense(512, activation='relu'), \n",
    "    # Only 1 output neuron. It will contain a value from 0-1 where 0 for 1 class ('cats') and 1 for the other ('dogs')\n",
    "    tf.keras.layers.Dense(1, activation='sigmoid')  \n",
    "])\n",
    "\n",
    "model.compile(optimizer=RMSprop(lr=0.001), loss='binary_crossentropy', metrics=['acc'])"
   ]
  },
  {
   "cell_type": "code",
   "execution_count": 12,
   "metadata": {},
   "outputs": [
    {
     "name": "stdout",
     "output_type": "stream",
     "text": [
      "Found 2700 images belonging to 2 classes.\n",
      "Found 300 images belonging to 2 classes.\n"
     ]
    }
   ],
   "source": [
    "TRAINING_DIR = '../data/cats-v-dogs/training/'\n",
    "train_datagen = train_datagen = ImageDataGenerator( rescale = 1.0/255. )\n",
    "\n",
    "train_generator = train_datagen.flow_from_directory(TRAINING_DIR,\n",
    "                                                    batch_size=8,\n",
    "                                                    class_mode='binary',\n",
    "                                                    target_size=(150, 150))  #YOUR CODE HERE\n",
    "\n",
    "VALIDATION_DIR = '../data/cats-v-dogs/testing/'\n",
    "validation_datagen = ImageDataGenerator( rescale = 1.0/255. )\n",
    "\n",
    "validation_generator = validation_datagen.flow_from_directory(VALIDATION_DIR,\n",
    "                                                         batch_size=8,\n",
    "                                                         class_mode  = 'binary',\n",
    "                                                         target_size = (150, 150))\n",
    "\n",
    "\n",
    "\n",
    "# Expected Output:\n",
    "# Found 2700 images belonging to 2 classes.\n",
    "# Found 300 images belonging to 2 classes."
   ]
  },
  {
   "cell_type": "code",
   "execution_count": 13,
   "metadata": {},
   "outputs": [
    {
     "name": "stderr",
     "output_type": "stream",
     "text": [
      "C:\\Users\\Khachatur\\Miniconda3\\lib\\site-packages\\tensorflow\\python\\keras\\engine\\training.py:1844: UserWarning: `Model.fit_generator` is deprecated and will be removed in a future version. Please use `Model.fit`, which supports generators.\n",
      "  warnings.warn('`Model.fit_generator` is deprecated and '\n"
     ]
    },
    {
     "name": "stdout",
     "output_type": "stream",
     "text": [
      "Epoch 1/20\n",
      "338/338 [==============================] - 23s 52ms/step - loss: 0.9048 - acc: 0.5753 - val_loss: 0.6130 - val_acc: 0.6467\n",
      "Epoch 2/20\n",
      "338/338 [==============================] - 5s 14ms/step - loss: 0.6301 - acc: 0.6808 - val_loss: 0.5659 - val_acc: 0.7400\n",
      "Epoch 3/20\n",
      "338/338 [==============================] - 5s 14ms/step - loss: 0.5295 - acc: 0.7573 - val_loss: 0.5525 - val_acc: 0.7067\n",
      "Epoch 4/20\n",
      "338/338 [==============================] - 4s 13ms/step - loss: 0.4679 - acc: 0.7800 - val_loss: 0.5555 - val_acc: 0.7300\n",
      "Epoch 5/20\n",
      "338/338 [==============================] - 4s 13ms/step - loss: 0.4121 - acc: 0.8253 - val_loss: 0.5234 - val_acc: 0.7400\n",
      "Epoch 6/20\n",
      "338/338 [==============================] - 5s 15ms/step - loss: 0.3430 - acc: 0.8528 - val_loss: 0.5086 - val_acc: 0.7733\n",
      "Epoch 7/20\n",
      "338/338 [==============================] - 5s 15ms/step - loss: 0.2653 - acc: 0.8891 - val_loss: 0.5876 - val_acc: 0.7400\n",
      "Epoch 8/20\n",
      "338/338 [==============================] - 5s 14ms/step - loss: 0.1933 - acc: 0.9226 - val_loss: 0.8952 - val_acc: 0.7567\n",
      "Epoch 9/20\n",
      "338/338 [==============================] - 5s 15ms/step - loss: 0.1536 - acc: 0.9385 - val_loss: 0.8889 - val_acc: 0.7900\n",
      "Epoch 10/20\n",
      "338/338 [==============================] - 5s 15ms/step - loss: 0.1100 - acc: 0.9578 - val_loss: 0.9117 - val_acc: 0.7533\n",
      "Epoch 11/20\n",
      "338/338 [==============================] - 5s 15ms/step - loss: 0.0818 - acc: 0.9719 - val_loss: 1.5561 - val_acc: 0.7700\n",
      "Epoch 12/20\n",
      "338/338 [==============================] - 6s 17ms/step - loss: 0.0775 - acc: 0.9747 - val_loss: 2.3444 - val_acc: 0.7433\n",
      "Epoch 13/20\n",
      "338/338 [==============================] - 5s 16ms/step - loss: 0.0868 - acc: 0.9798 - val_loss: 2.1893 - val_acc: 0.7500\n",
      "Epoch 14/20\n",
      "338/338 [==============================] - 5s 16ms/step - loss: 0.0562 - acc: 0.9834 - val_loss: 2.0075 - val_acc: 0.7667\n",
      "Epoch 15/20\n",
      "338/338 [==============================] - 6s 17ms/step - loss: 0.0631 - acc: 0.9845 - val_loss: 1.6592 - val_acc: 0.7533\n",
      "Epoch 16/20\n",
      "338/338 [==============================] - 6s 19ms/step - loss: 0.0479 - acc: 0.9898 - val_loss: 3.0785 - val_acc: 0.7833\n",
      "Epoch 17/20\n",
      "338/338 [==============================] - 7s 21ms/step - loss: 0.0435 - acc: 0.9881 - val_loss: 2.5910 - val_acc: 0.7800\n",
      "Epoch 18/20\n",
      "338/338 [==============================] - 6s 18ms/step - loss: 0.0496 - acc: 0.9874 - val_loss: 2.1780 - val_acc: 0.7500\n",
      "Epoch 19/20\n",
      "338/338 [==============================] - 6s 19ms/step - loss: 0.0434 - acc: 0.9870 - val_loss: 2.5837 - val_acc: 0.7600\n",
      "Epoch 20/20\n",
      "338/338 [==============================] - 7s 19ms/step - loss: 0.0353 - acc: 0.9944 - val_loss: 2.7002 - val_acc: 0.7633\n"
     ]
    }
   ],
   "source": [
    "history = model.fit_generator(train_generator,\n",
    "                              epochs=20,\n",
    "                              verbose=1,\n",
    "                              validation_data=validation_generator)\n"
   ]
  },
  {
   "cell_type": "code",
   "execution_count": 14,
   "metadata": {},
   "outputs": [
    {
     "data": {
      "text/plain": [
       "Text(0.5, 1.0, 'Training and validation loss')"
      ]
     },
     "execution_count": 14,
     "metadata": {},
     "output_type": "execute_result"
    },
    {
     "data": {
      "image/png": "[encoded data removed]",
      "text/plain": [
       "<Figure size 432x288 with 1 Axes>"
      ]
     },
     "metadata": {
      "needs_background": "light"
     },
     "output_type": "display_data"
    },
    {
     "data": {
      "image/png": "[encoded data removed]",
      "text/plain": [
       "<Figure size 432x288 with 1 Axes>"
      ]
     },
     "metadata": {
      "needs_background": "light"
     },
     "output_type": "display_data"
    }
   ],
   "source": [
    "# PLOT LOSS AND ACCURACY\n",
    "%matplotlib inline\n",
    "\n",
    "import matplotlib.image  as mpimg\n",
    "import matplotlib.pyplot as plt\n",
    "\n",
    "#-----------------------------------------------------------\n",
    "# Retrieve a list of list results on training and test data\n",
    "# sets for each training epoch\n",
    "#-----------------------------------------------------------\n",
    "acc=history.history['acc']\n",
    "val_acc=history.history['val_acc']\n",
    "loss=history.history['loss']\n",
    "val_loss=history.history['val_loss']\n",
    "\n",
    "epochs=range(len(acc)) # Get number of epochs\n",
    "\n",
    "#------------------------------------------------\n",
    "# Plot training and validation accuracy per epoch\n",
    "#------------------------------------------------\n",
    "plt.plot(epochs, acc, 'r', \"Training Accuracy\")\n",
    "plt.plot(epochs, val_acc, 'b', \"Validation Accuracy\")\n",
    "plt.title('Training and validation accuracy')\n",
    "plt.figure()\n",
    "\n",
    "#------------------------------------------------\n",
    "# Plot training and validation loss per epoch\n",
    "#------------------------------------------------\n",
    "plt.plot(epochs, loss, 'r', \"Training Loss\")\n",
    "plt.plot(epochs, val_loss, 'b', \"Validation Loss\")\n",
    "\n",
    "\n",
    "plt.title('Training and validation loss')\n",
    "\n",
    "# Desired output. Charts with training and validation metrics. No crash :)"
   ]
  },
  {
   "cell_type": "code",
   "execution_count": null,
   "metadata": {},
   "outputs": [],
   "source": []
  }
 ],
 "metadata": {
  "kernelspec": {
   "display_name": "tensorflow2",
   "language": "python",
   "name": "tensorflow2"
  },
  "language_info": {
   "codemirror_mode": {
    "name": "ipython",
    "version": 3
   },
   "file_extension": ".py",
   "mimetype": "text/x-python",
   "name": "python",
   "nbconvert_exporter": "python",
   "pygments_lexer": "ipython3",
   "version": "3.7.4"
  }
 },
 "nbformat": 4,
 "nbformat_minor": 4
}
